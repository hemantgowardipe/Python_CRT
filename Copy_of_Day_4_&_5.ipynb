{
  "nbformat": 4,
  "nbformat_minor": 0,
  "metadata": {
    "colab": {
      "provenance": [],
      "include_colab_link": true
    },
    "kernelspec": {
      "name": "python3",
      "display_name": "Python 3"
    },
    "language_info": {
      "name": "python"
    }
  },
  "cells": [
    {
      "cell_type": "markdown",
      "metadata": {
        "id": "view-in-github",
        "colab_type": "text"
      },
      "source": [
        "<a href=\"https://colab.research.google.com/github/hemantgowardipe/Python_CRT/blob/main/Copy_of_Day_4_%26_5.ipynb\" target=\"_parent\"><img src=\"https://colab.research.google.com/assets/colab-badge.svg\" alt=\"Open In Colab\"/></a>"
      ]
    },
    {
      "cell_type": "code",
      "execution_count": null,
      "metadata": {
        "id": "CdDQC7tuphW8"
      },
      "outputs": [],
      "source": [
        "'''\n",
        "Collections Data Types\n",
        "----------------------------------\n",
        "\n",
        "  -> List\n",
        "  -> Set\n",
        "  -> Tuple\n",
        "  -> Dict\n",
        "  '''"
      ]
    },
    {
      "cell_type": "code",
      "source": [
        "'''\n",
        "List\n",
        "----------------------------\n",
        "\n",
        "  ->\n",
        "  '''"
      ],
      "metadata": {
        "id": "_YhSFCsuqBk_"
      },
      "execution_count": null,
      "outputs": []
    },
    {
      "cell_type": "code",
      "source": [
        "l = [10, 90, 80, 45, 40, 11, 99]\n",
        "l"
      ],
      "metadata": {
        "id": "05WAD5mYqBhy",
        "colab": {
          "base_uri": "https://localhost:8080/"
        },
        "outputId": "e1e20ba5-571f-4cc4-8a35-05bfc6d62f24"
      },
      "execution_count": null,
      "outputs": [
        {
          "output_type": "execute_result",
          "data": {
            "text/plain": [
              "[10, 90, 80, 45, 40, 11, 99]"
            ]
          },
          "metadata": {},
          "execution_count": 6
        }
      ]
    },
    {
      "cell_type": "code",
      "source": [
        "sorted(l)"
      ],
      "metadata": {
        "colab": {
          "base_uri": "https://localhost:8080/"
        },
        "id": "jFqg-tUIxarh",
        "outputId": "a51f5b03-3e54-4d00-ace0-4579bb4039e5"
      },
      "execution_count": null,
      "outputs": [
        {
          "output_type": "execute_result",
          "data": {
            "text/plain": [
              "[10, 11, 40, 45, 80, 90, 99]"
            ]
          },
          "metadata": {},
          "execution_count": 7
        }
      ]
    },
    {
      "cell_type": "code",
      "source": [
        "for x in sorted(l):\n",
        "  print(x,end=\" \")"
      ],
      "metadata": {
        "id": "w1Z67aicqBdq",
        "colab": {
          "base_uri": "https://localhost:8080/"
        },
        "outputId": "83a014e3-5542-44d6-c1ef-7140ec352c41"
      },
      "execution_count": null,
      "outputs": [
        {
          "output_type": "stream",
          "name": "stdout",
          "text": [
            "10 11 40 45 80 90 99 "
          ]
        }
      ]
    },
    {
      "cell_type": "code",
      "source": [
        "l1 = [11, 23, 44, 48, 98, 72]\n",
        "l2 = [21, 23, 42, 47, 92, 33]\n",
        "print(l1,l2)"
      ],
      "metadata": {
        "id": "_6k4WS_kqBaH",
        "colab": {
          "base_uri": "https://localhost:8080/"
        },
        "outputId": "f19b32d4-da3d-49eb-d1cb-b125704f7399"
      },
      "execution_count": null,
      "outputs": [
        {
          "output_type": "stream",
          "name": "stdout",
          "text": [
            "[11, 23, 44, 48, 98, 72] [21, 23, 42, 47, 92, 33]\n"
          ]
        }
      ]
    },
    {
      "cell_type": "code",
      "source": [
        "# Checking same numbers from two different list\n",
        "for x in sorted(l1):\n",
        "  if x in l2:\n",
        "    print(x,end=\" \")"
      ],
      "metadata": {
        "id": "7ns3V88WqBWb",
        "colab": {
          "base_uri": "https://localhost:8080/"
        },
        "outputId": "d33a6a78-9dda-439a-a692-3617895cae02"
      },
      "execution_count": null,
      "outputs": [
        {
          "output_type": "stream",
          "name": "stdout",
          "text": [
            "23 "
          ]
        }
      ]
    },
    {
      "cell_type": "code",
      "source": [
        "#Checking even nymbers from both the list\n",
        "for x in sorted(l1):\n",
        "  if x%2==0:\n",
        "    print(x,end=\" \")\n",
        "for x in sorted(l2):\n",
        "  if x%2==0:\n",
        "    print(x,end=\" \")"
      ],
      "metadata": {
        "id": "elgfrPJeqBTL",
        "colab": {
          "base_uri": "https://localhost:8080/"
        },
        "outputId": "9b15d2da-6bf3-40ec-fe81-20adbd8743dc"
      },
      "execution_count": null,
      "outputs": [
        {
          "output_type": "stream",
          "name": "stdout",
          "text": [
            "44 48 72 98 42 92 "
          ]
        }
      ]
    },
    {
      "cell_type": "code",
      "source": [
        "#Take input from user till first blank is given and display the whole item list\n",
        "l = []\n",
        "while True:\n",
        "  s = input(\"Write any thing...\")\n",
        "  if s==\"\":\n",
        "    break\n",
        "  l.append(s)\n",
        "print(l)"
      ],
      "metadata": {
        "id": "90yKr47AqBPr",
        "colab": {
          "base_uri": "https://localhost:8080/"
        },
        "outputId": "dd444270-a678-40e5-9d53-96bf148ea7ca"
      },
      "execution_count": null,
      "outputs": [
        {
          "output_type": "stream",
          "name": "stdout",
          "text": [
            "Write any thing...Tea\n",
            "Write any thing...Coffee\n",
            "Write any thing...Water\n",
            "Write any thing...Pav Bhaji\n",
            "Write any thing...\n",
            "['Tea', 'Coffee', 'Water', 'Pav Bhaji']\n"
          ]
        }
      ]
    },
    {
      "cell_type": "code",
      "source": [
        "order_list = []\n",
        "while True:\n",
        "  user_order = input(\"Enter your order: \")\n",
        "  if user_order == \"\":\n",
        "    break\n",
        "  order_list.append(user_order)\n",
        "print(order_list)"
      ],
      "metadata": {
        "id": "s0hrJa1JqBMS",
        "colab": {
          "base_uri": "https://localhost:8080/"
        },
        "outputId": "036e417b-3090-4b50-f121-d8d1cc5c38c5"
      },
      "execution_count": null,
      "outputs": [
        {
          "output_type": "stream",
          "name": "stdout",
          "text": [
            "Enter your order: Tea\n",
            "Enter your order: Water\n",
            "Enter your order: \n",
            "['Tea', 'Water']\n"
          ]
        }
      ]
    },
    {
      "cell_type": "code",
      "source": [
        "#Define an empty list and insert values from user till first blank is given print list, min, max, sum, avg\n",
        "l = []\n",
        "while True:\n",
        "  s = input(\"Write any thing...\")\n",
        "  if s==\"\":\n",
        "    break\n",
        "  l.append(int(s))\n",
        "  print(\"List\",l)\n",
        "print(\"Minimum Number\",min(l))\n",
        "print(\"Maximum Number\",max(l))\n",
        "print(\"Sum of Numbers\",sum(l))\n",
        "print(\"Length of list\",len(l))\n",
        "print(\"Average of Numbers\",sum(l)/len(l))"
      ],
      "metadata": {
        "id": "M0JkMioNqBIt",
        "colab": {
          "base_uri": "https://localhost:8080/"
        },
        "outputId": "1ec85c79-d029-47e2-c76c-e4e80c9e1c53"
      },
      "execution_count": null,
      "outputs": [
        {
          "output_type": "stream",
          "name": "stdout",
          "text": [
            "Write any thing...99\n",
            "List [99]\n",
            "Write any thing...01\n",
            "List [99, 1]\n",
            "Write any thing...021\n",
            "List [99, 1, 21]\n",
            "Write any thing...\n",
            "Minimum Number 1\n",
            "Maximum Number 99\n",
            "Sum of Numbers 121\n",
            "Length of list 3\n",
            "Average of Numbers 40.333333333333336\n"
          ]
        }
      ]
    },
    {
      "cell_type": "code",
      "source": [
        "l = [10, 10, 10, 10, 20, 30, 40, 50]\n",
        "target = int(input(\"Select the target element from list\"))\n",
        "count = 0\n",
        "for x in l:\n",
        "  if x == target:\n",
        "    count += 1\n",
        "print(\"Count =\",count)"
      ],
      "metadata": {
        "id": "YkXBaAu3qBFN",
        "colab": {
          "base_uri": "https://localhost:8080/"
        },
        "outputId": "9fbb8fac-b1ca-4816-8758-b58a53129110"
      },
      "execution_count": null,
      "outputs": [
        {
          "output_type": "stream",
          "name": "stdout",
          "text": [
            "Select the target element from list10\n",
            "Count = 4\n"
          ]
        }
      ]
    },
    {
      "cell_type": "code",
      "source": [
        "l = [10, 10, 10, 10, 20, 30, 40, 50]\n",
        "target = int(input(\"Select the target element from list --> \"))\n",
        "print(\"Position =\",l.index(target)+1)\n",
        "print(\"Index =\",l.index(target))\n",
        "print(\"Count =\",l.count(target))"
      ],
      "metadata": {
        "id": "-4QUuc33qBBi",
        "colab": {
          "base_uri": "https://localhost:8080/"
        },
        "outputId": "0faa6a0a-1c0f-41a6-ee75-912a3b815db6"
      },
      "execution_count": null,
      "outputs": [
        {
          "output_type": "stream",
          "name": "stdout",
          "text": [
            "Select the target element from list --> 20\n",
            "Position = 5\n",
            "Index = 4\n",
            "Count = 1\n"
          ]
        }
      ]
    },
    {
      "cell_type": "code",
      "source": [
        "l = [10, 10, 10, 10, 20, 30, 40, 50]\n",
        "avg = sum(l)/len(l)\n",
        "print(\"List --> \",l)\n",
        "\n",
        "for index in range (len(l)):\n",
        "  if avg > l[index]:\n",
        "    l[index] += 10\n",
        "  else:\n",
        "    l[index] -=5\n",
        "print(\"Average of List\",avg)\n",
        "print(\"Updated List\",l)\n"
      ],
      "metadata": {
        "id": "pVhY4oAbqA-n",
        "colab": {
          "base_uri": "https://localhost:8080/"
        },
        "outputId": "40fd9e04-63a4-410b-f5f2-67262278434f"
      },
      "execution_count": null,
      "outputs": [
        {
          "output_type": "stream",
          "name": "stdout",
          "text": [
            "List -->  [10, 10, 10, 10, 20, 30, 40, 50]\n",
            "Average of List 22.5\n",
            "Updated List [20, 20, 20, 20, 30, 25, 35, 45]\n"
          ]
        }
      ]
    },
    {
      "cell_type": "code",
      "source": [
        "l = [10, 10, 10, 10, 5, 30, 40, 50, 99,]\n",
        "max =l[0]\n",
        "min =l[0]\n",
        "for element in l:\n",
        "  if max < element:\n",
        "    max = element\n",
        "    if min > element:\n",
        "      min = element\n",
        "print(\"Maximum Number\",max)\n",
        "print(\"Minimum Number\",min)"
      ],
      "metadata": {
        "id": "UHYpzJ4uqA7z",
        "colab": {
          "base_uri": "https://localhost:8080/"
        },
        "outputId": "5bea6091-f1e8-4194-8d90-ebb71b1cb772"
      },
      "execution_count": null,
      "outputs": [
        {
          "output_type": "stream",
          "name": "stdout",
          "text": [
            "Maximum Number 99\n",
            "Minimum Number 10\n"
          ]
        }
      ]
    },
    {
      "cell_type": "code",
      "source": [
        "#Rotate an array in clock wise direction\n",
        "l = [1, 2, 3, 4, 5]\n",
        "print(\"Original List --> \",l)\n",
        "for x in range(len(l)-1):\n",
        "  l.insert(0,l.pop())\n",
        "  print(l)"
      ],
      "metadata": {
        "id": "U2rMYGLMqA44",
        "colab": {
          "base_uri": "https://localhost:8080/"
        },
        "outputId": "3d487722-2039-4f23-ed4b-a2fdd23884f7"
      },
      "execution_count": null,
      "outputs": [
        {
          "output_type": "stream",
          "name": "stdout",
          "text": [
            "Original List -->  [1, 2, 3, 4, 5]\n",
            "[5, 1, 2, 3, 4]\n",
            "[4, 5, 1, 2, 3]\n",
            "[3, 4, 5, 1, 2]\n",
            "[2, 3, 4, 5, 1]\n"
          ]
        }
      ]
    },
    {
      "cell_type": "code",
      "source": [
        "# Rotate an list in anti-clock wise direction\n",
        "l = [1, 2, 3, 4, 5]\n",
        "print(\"Original List --> \",l)\n",
        "for x in range(len(l)-1):\n",
        "  l.append(l.pop(0))\n",
        "  print(l)"
      ],
      "metadata": {
        "id": "5YAF4DCEqA2A",
        "colab": {
          "base_uri": "https://localhost:8080/"
        },
        "outputId": "9d5b4e00-9a52-4a0e-ee35-f043fbfd46c2"
      },
      "execution_count": null,
      "outputs": [
        {
          "output_type": "stream",
          "name": "stdout",
          "text": [
            "Original List -->  [1, 2, 3, 4, 5]\n",
            "[2, 3, 4, 5, 1]\n",
            "[3, 4, 5, 1, 2]\n",
            "[4, 5, 1, 2, 3]\n",
            "[5, 1, 2, 3, 4]\n"
          ]
        }
      ]
    },
    {
      "cell_type": "code",
      "source": [
        "# prompt: All about tuple\n",
        "\n",
        "'''\n",
        "Tuple\n",
        "----------------------------\n",
        "\n",
        "  -> Ordered, immutable collection of items.\n",
        "  -> Defined by enclosing elements in parentheses ().\n",
        "  -> Can contain elements of different data types.\n",
        "  -> Indexed, allows slicing.\n",
        "  -> Faster than lists for iteration (once created) and generally consumes less memory.\n",
        "  -> Useful for representing fixed collections of data.\n",
        "'''\n",
        "\n",
        "# Creating a tuple\n",
        "my_tuple = (10, 20, 30, \"hello\", 40.5)\n",
        "print(\"My tuple:\", my_tuple)\n",
        "\n",
        "# Accessing elements by index\n",
        "print(\"Element at index 0:\", my_tuple[0])\n",
        "print(\"Element at index 3:\", my_tuple[3])\n",
        "\n",
        "# Slicing a tuple\n",
        "print(\"Slice from index 1 to 3:\", my_tuple[1:4])\n",
        "print(\"Slice from the beginning to index 2:\", my_tuple[:3])\n",
        "print(\"Slice from index 2 to the end:\", my_tuple[2:])\n",
        "\n",
        "# Tuples are immutable - trying to modify will raise a TypeError\n",
        "# my_tuple[0] = 100  # This will cause an error\n",
        "\n",
        "# Length of a tuple\n",
        "print(\"Length of the tuple:\", len(my_tuple))\n",
        "\n",
        "# Iterating through a tuple\n",
        "print(\"Iterating through the tuple:\")\n",
        "for item in my_tuple:\n",
        "  print(item)\n",
        "\n",
        "# Checking if an element exists in a tuple\n",
        "print(\"Is 'hello' in the tuple?\", \"hello\" in my_tuple)\n",
        "print(\"Is 50 in the tuple?\", 50 in my_tuple)\n",
        "\n",
        "# Concatenating tuples\n",
        "another_tuple = (50, 60)\n",
        "combined_tuple = my_tuple + another_tuple\n",
        "print(\"Combined tuple:\", combined_tuple)\n",
        "\n",
        "# Repeating a tuple\n",
        "repeated_tuple = my_tuple * 2\n",
        "print(\"Repeated tuple:\", repeated_tuple)\n",
        "\n",
        "# Tuple with a single element (note the trailing comma)\n",
        "single_element_tuple = (100,)\n",
        "print(\"Single element tuple:\", single_element_tuple)\n",
        "print(\"Type of single element tuple:\", type(single_element_tuple))\n",
        "\n",
        "# Tuple without the trailing comma is just the element itself\n",
        "not_a_tuple = (100)\n",
        "print(\"Not a tuple (without comma):\", not_a_tuple)\n",
        "print(\"Type of not a tuple (without comma):\", type(not_a_tuple))\n",
        "\n",
        "# Nested tuples\n",
        "nested_tuple = ((1, 2), (3, 4, 5), 6)\n",
        "print(\"Nested tuple:\", nested_tuple)\n",
        "print(\"Accessing inner tuple:\", nested_tuple[0])\n",
        "print(\"Accessing element in inner tuple:\", nested_tuple[0][1])\n",
        "\n",
        "# Unpacking a tuple\n",
        "coordinates = (10, 20, 30)\n",
        "x, y, z = coordinates\n",
        "print(\"Unpacked values:\", x, y, z)\n",
        "\n",
        "# Common tuple methods (limited compared to lists due to immutability)\n",
        "numbers_tuple = (1, 2, 2, 3, 4, 2, 5)\n",
        "print(\"Count of 2 in numbers_tuple:\", numbers_tuple.count(2))\n",
        "print(\"Index of 3 in numbers_tuple:\", numbers_tuple.index(3))\n",
        "\n",
        "# When to use tuples over lists:\n",
        "# - When you have a collection of items that should not be changed.\n",
        "# - For function arguments where the order matters (e.g., coordinates).\n",
        "# - As dictionary keys (lists cannot be dictionary keys because they are mutable).\n"
      ],
      "metadata": {
        "id": "AqHfjnWIqAzS",
        "colab": {
          "base_uri": "https://localhost:8080/"
        },
        "outputId": "81e13993-dc9c-4efa-cede-c1aa388cc921"
      },
      "execution_count": null,
      "outputs": [
        {
          "output_type": "stream",
          "name": "stdout",
          "text": [
            "My tuple: (10, 20, 30, 'hello', 40.5)\n",
            "Element at index 0: 10\n",
            "Element at index 3: hello\n",
            "Slice from index 1 to 3: (20, 30, 'hello')\n",
            "Slice from the beginning to index 2: (10, 20, 30)\n",
            "Slice from index 2 to the end: (30, 'hello', 40.5)\n",
            "Length of the tuple: 5\n",
            "Iterating through the tuple:\n",
            "10\n",
            "20\n",
            "30\n",
            "hello\n",
            "40.5\n",
            "Is 'hello' in the tuple? True\n",
            "Is 50 in the tuple? False\n",
            "Combined tuple: (10, 20, 30, 'hello', 40.5, 50, 60)\n",
            "Repeated tuple: (10, 20, 30, 'hello', 40.5, 10, 20, 30, 'hello', 40.5)\n",
            "Single element tuple: (100,)\n",
            "Type of single element tuple: <class 'tuple'>\n",
            "Not a tuple (without comma): 100\n",
            "Type of not a tuple (without comma): <class 'int'>\n",
            "Nested tuple: ((1, 2), (3, 4, 5), 6)\n",
            "Accessing inner tuple: (1, 2)\n",
            "Accessing element in inner tuple: 2\n",
            "Unpacked values: 10 20 30\n",
            "Count of 2 in numbers_tuple: 3\n",
            "Index of 3 in numbers_tuple: 3\n"
          ]
        }
      ]
    },
    {
      "cell_type": "code",
      "source": [
        "#Count the frequency of each digit\n",
        "l = [1,1,2,4,6,0,0,1,1,3,3,2,1,1]\n",
        "for x in range(7):\n",
        "  print(x,\"-->\",l.count(x))\n"
      ],
      "metadata": {
        "id": "tENTiPEqqAwg",
        "colab": {
          "base_uri": "https://localhost:8080/"
        },
        "outputId": "ab196b06-dc01-4f6d-cd1a-10ccd90782a2"
      },
      "execution_count": null,
      "outputs": [
        {
          "output_type": "stream",
          "name": "stdout",
          "text": [
            "0 --> 2\n",
            "1 --> 6\n",
            "2 --> 2\n",
            "3 --> 2\n",
            "4 --> 1\n",
            "5 --> 0\n",
            "6 --> 1\n"
          ]
        }
      ]
    },
    {
      "cell_type": "code",
      "source": [
        "user_name_pass_db = {'hemant@gmail.com' : 2005, 'gaurav@gmail.com' : 'gaurav@2004'}\n",
        "user_name_pass_db"
      ],
      "metadata": {
        "id": "NiOezrV5qAtw",
        "colab": {
          "base_uri": "https://localhost:8080/"
        },
        "outputId": "a058e88e-03df-4c32-93eb-8cebb4843dfd"
      },
      "execution_count": null,
      "outputs": [
        {
          "output_type": "execute_result",
          "data": {
            "text/plain": [
              "{'hemant@gmail.com': 2005, 'gaurav@gmail.com': 'gaurav@2004'}"
            ]
          },
          "metadata": {},
          "execution_count": 7
        }
      ]
    },
    {
      "cell_type": "code",
      "source": [
        "user = input(\"Enter Username :\")\n",
        "if user in user_name_pass_db:\n",
        "  password = int(input(\"Enter Password :\"))\n",
        "  if password == user_name_pass_db[user]:\n",
        "    print(\"User Found\")\n",
        "  else:\n",
        "    print(\"Password Incorrect\")\n",
        "else:\n",
        "  print(\"User Not Found\")"
      ],
      "metadata": {
        "id": "258u8N3jqAq0",
        "colab": {
          "base_uri": "https://localhost:8080/"
        },
        "outputId": "c596f253-76c8-4e27-f4fe-9a7341b752a7"
      },
      "execution_count": null,
      "outputs": [
        {
          "output_type": "stream",
          "name": "stdout",
          "text": [
            "Enter Username :hemant@gmail.com\n",
            "Enter Password :2005\n",
            "User Found\n"
          ]
        }
      ]
    },
    {
      "cell_type": "code",
      "source": [
        "import random\n",
        "import time\n",
        "\n",
        "user = input(\"Enter Username :\")\n",
        "if user in user_name_pass_db:\n",
        "  password = int(input(\"Enter Password :\"))\n",
        "  if password == user_name_pass_db[user]:\n",
        "\n",
        "    num1 = random.randint(0, 10)\n",
        "    num2 = random.randint(0, 10)\n",
        "\n",
        "    print(num1 , '+', num2, '= ?')\n",
        "\n",
        "    while True:\n",
        "      user_answer = int(input())\n",
        "      if user_answer == num1 + num2:\n",
        "        time.sleep(3)\n",
        "        print(\"Login Successful....\")\n",
        "        break\n",
        "  else:\n",
        "    print(\"Password Incorrect\")\n",
        "else:\n",
        "  print(\"User Not Found\")"
      ],
      "metadata": {
        "id": "ADGpvXO3qAoK",
        "colab": {
          "base_uri": "https://localhost:8080/"
        },
        "outputId": "c9eb6cb5-3cb9-44ef-b043-5ccf7c689494"
      },
      "execution_count": null,
      "outputs": [
        {
          "output_type": "stream",
          "name": "stdout",
          "text": [
            "Enter Username :hemant@gmail.com\n",
            "Enter Password :2005\n",
            "10 + 3 = ?\n",
            "13\n",
            "Login Successful....\n"
          ]
        }
      ]
    },
    {
      "cell_type": "code",
      "source": [
        "l = [1, 1, 2, 4, 6, 0, 0, 1, 1, 3, 3, 2, 1, 1]\n",
        "\n",
        "my_dict = {}\n",
        "\n",
        "for x in sorted(set(l)):\n",
        "  # key (unique)  --> value (frequency)\n",
        "  my_dict[x] = l.count(x)\n",
        "  print('key -> ', x, 'value -> ', my_dict[x])\n",
        "\n",
        "print(my_dict)"
      ],
      "metadata": {
        "id": "0KsptS8nqAlQ",
        "colab": {
          "base_uri": "https://localhost:8080/"
        },
        "outputId": "3f34fc02-5f22-40a2-8394-bfea334aa2a8"
      },
      "execution_count": 24,
      "outputs": [
        {
          "output_type": "stream",
          "name": "stdout",
          "text": [
            "key ->  0 value ->  2\n",
            "key ->  1 value ->  6\n",
            "key ->  2 value ->  2\n",
            "key ->  3 value ->  2\n",
            "key ->  4 value ->  1\n",
            "key ->  6 value ->  1\n",
            "{0: 2, 1: 6, 2: 2, 3: 2, 4: 1, 6: 1}\n"
          ]
        }
      ]
    },
    {
      "cell_type": "code",
      "source": [],
      "metadata": {
        "id": "NMRvl2odqAio"
      },
      "execution_count": null,
      "outputs": []
    },
    {
      "cell_type": "code",
      "source": [],
      "metadata": {
        "id": "BzVNMp16qAf2"
      },
      "execution_count": null,
      "outputs": []
    },
    {
      "cell_type": "code",
      "source": [],
      "metadata": {
        "id": "aIYIows3qAc7"
      },
      "execution_count": null,
      "outputs": []
    },
    {
      "cell_type": "code",
      "source": [],
      "metadata": {
        "id": "LtgnXtrLqAaG"
      },
      "execution_count": null,
      "outputs": []
    },
    {
      "cell_type": "code",
      "source": [],
      "metadata": {
        "id": "DAWb2zn4qAXI"
      },
      "execution_count": null,
      "outputs": []
    },
    {
      "cell_type": "code",
      "source": [],
      "metadata": {
        "id": "I8xqMamuqAT-"
      },
      "execution_count": null,
      "outputs": []
    },
    {
      "cell_type": "code",
      "source": [],
      "metadata": {
        "id": "mFOC_I9xqAQa"
      },
      "execution_count": null,
      "outputs": []
    },
    {
      "cell_type": "code",
      "source": [],
      "metadata": {
        "id": "8RexEpifqAMz"
      },
      "execution_count": null,
      "outputs": []
    },
    {
      "cell_type": "code",
      "source": [],
      "metadata": {
        "id": "LPbtaqvUqAJ7"
      },
      "execution_count": null,
      "outputs": []
    },
    {
      "cell_type": "code",
      "source": [],
      "metadata": {
        "id": "jwj1oMtEqAHH"
      },
      "execution_count": null,
      "outputs": []
    },
    {
      "cell_type": "code",
      "source": [],
      "metadata": {
        "id": "rOgMgQ5VqAEH"
      },
      "execution_count": null,
      "outputs": []
    },
    {
      "cell_type": "code",
      "source": [],
      "metadata": {
        "id": "zvp2CSdFqABG"
      },
      "execution_count": null,
      "outputs": []
    },
    {
      "cell_type": "code",
      "source": [],
      "metadata": {
        "id": "C6YBhEf4p_-H"
      },
      "execution_count": null,
      "outputs": []
    },
    {
      "cell_type": "code",
      "source": [],
      "metadata": {
        "id": "gypKXcKlp_7I"
      },
      "execution_count": null,
      "outputs": []
    },
    {
      "cell_type": "code",
      "source": [],
      "metadata": {
        "id": "Kr1YFuPFp_4J"
      },
      "execution_count": null,
      "outputs": []
    },
    {
      "cell_type": "code",
      "source": [],
      "metadata": {
        "id": "sZZgYJ1Zp_1P"
      },
      "execution_count": null,
      "outputs": []
    },
    {
      "cell_type": "code",
      "source": [],
      "metadata": {
        "id": "5IiZkp-rp_yE"
      },
      "execution_count": null,
      "outputs": []
    },
    {
      "cell_type": "code",
      "source": [],
      "metadata": {
        "id": "a3s3ZB0_p_vB"
      },
      "execution_count": null,
      "outputs": []
    },
    {
      "cell_type": "code",
      "source": [],
      "metadata": {
        "id": "PZm1TNtQp_rX"
      },
      "execution_count": null,
      "outputs": []
    },
    {
      "cell_type": "code",
      "source": [],
      "metadata": {
        "id": "Kj_1GVqlp_oa"
      },
      "execution_count": null,
      "outputs": []
    },
    {
      "cell_type": "code",
      "source": [],
      "metadata": {
        "id": "1Zx0YKojp_lV"
      },
      "execution_count": null,
      "outputs": []
    },
    {
      "cell_type": "code",
      "source": [],
      "metadata": {
        "id": "8IC638kkp_im"
      },
      "execution_count": null,
      "outputs": []
    },
    {
      "cell_type": "code",
      "source": [],
      "metadata": {
        "id": "289rNupPp_gM"
      },
      "execution_count": null,
      "outputs": []
    },
    {
      "cell_type": "code",
      "source": [],
      "metadata": {
        "id": "fl2YfA4Zp_by"
      },
      "execution_count": null,
      "outputs": []
    },
    {
      "cell_type": "code",
      "source": [],
      "metadata": {
        "id": "MOpDksAIp_YP"
      },
      "execution_count": null,
      "outputs": []
    },
    {
      "cell_type": "code",
      "source": [],
      "metadata": {
        "id": "9d0j8XA4p_Vl"
      },
      "execution_count": null,
      "outputs": []
    },
    {
      "cell_type": "code",
      "source": [],
      "metadata": {
        "id": "f4-QweZWp_TI"
      },
      "execution_count": null,
      "outputs": []
    },
    {
      "cell_type": "code",
      "source": [],
      "metadata": {
        "id": "UOaquSarp_QT"
      },
      "execution_count": null,
      "outputs": []
    },
    {
      "cell_type": "code",
      "source": [],
      "metadata": {
        "id": "E-vF0uq2p_N0"
      },
      "execution_count": null,
      "outputs": []
    },
    {
      "cell_type": "code",
      "source": [],
      "metadata": {
        "id": "ykh6nAWap_K_"
      },
      "execution_count": null,
      "outputs": []
    },
    {
      "cell_type": "code",
      "source": [],
      "metadata": {
        "id": "khs9Fs77p_IT"
      },
      "execution_count": null,
      "outputs": []
    },
    {
      "cell_type": "code",
      "source": [],
      "metadata": {
        "id": "G3C1LM_Zp_Fr"
      },
      "execution_count": null,
      "outputs": []
    },
    {
      "cell_type": "code",
      "source": [],
      "metadata": {
        "id": "GqdSZKLwp_DF"
      },
      "execution_count": null,
      "outputs": []
    },
    {
      "cell_type": "code",
      "source": [],
      "metadata": {
        "id": "opJF7LpNp_Aj"
      },
      "execution_count": null,
      "outputs": []
    },
    {
      "cell_type": "code",
      "source": [],
      "metadata": {
        "id": "5dW2iQqqp--H"
      },
      "execution_count": null,
      "outputs": []
    },
    {
      "cell_type": "code",
      "source": [],
      "metadata": {
        "id": "ncM_mC6rp-6T"
      },
      "execution_count": null,
      "outputs": []
    },
    {
      "cell_type": "code",
      "source": [],
      "metadata": {
        "id": "fpPuLU2Wp-2y"
      },
      "execution_count": null,
      "outputs": []
    },
    {
      "cell_type": "code",
      "source": [],
      "metadata": {
        "id": "vd53aWHJp-0H"
      },
      "execution_count": null,
      "outputs": []
    },
    {
      "cell_type": "code",
      "source": [],
      "metadata": {
        "id": "fs9AU5Sap-xn"
      },
      "execution_count": null,
      "outputs": []
    },
    {
      "cell_type": "code",
      "source": [],
      "metadata": {
        "id": "Qt-XOJjsp-th"
      },
      "execution_count": null,
      "outputs": []
    }
  ]
}