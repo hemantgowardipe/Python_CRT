{
  "nbformat": 4,
  "nbformat_minor": 0,
  "metadata": {
    "colab": {
      "provenance": [],
      "include_colab_link": true
    },
    "kernelspec": {
      "name": "python3",
      "display_name": "Python 3"
    },
    "language_info": {
      "name": "python"
    }
  },
  "cells": [
    {
      "cell_type": "markdown",
      "metadata": {
        "id": "view-in-github",
        "colab_type": "text"
      },
      "source": [
        "<a href=\"https://colab.research.google.com/github/hemantgowardipe/Python_CRT/blob/main/Copy_of_Day_2.ipynb\" target=\"_parent\"><img src=\"https://colab.research.google.com/assets/colab-badge.svg\" alt=\"Open In Colab\"/></a>"
      ]
    },
    {
      "cell_type": "code",
      "execution_count": null,
      "metadata": {
        "id": "JMBE06OnMeOQ"
      },
      "outputs": [],
      "source": [
        "Loops\n",
        "----------------\n",
        "\n",
        "  -> while  -> digit separate / menu driven\n",
        "  -> for    -> series / pattern / array / string, etc"
      ]
    },
    {
      "cell_type": "code",
      "source": [
        "syntax\n",
        "----------\n",
        "\n",
        "while condition (bool):\n",
        "  # at least one statement"
      ],
      "metadata": {
        "id": "pyKUlZL9M5C9"
      },
      "execution_count": null,
      "outputs": []
    },
    {
      "cell_type": "code",
      "source": [
        "1, 2, 3, 4, 5, 6, 7, 8, 9, 10"
      ],
      "metadata": {
        "id": "I-0U_UmmM4_c"
      },
      "execution_count": null,
      "outputs": []
    },
    {
      "cell_type": "code",
      "source": [
        "start = 1\n",
        "\n",
        "while start <=  10:\n",
        "  print(start)\n",
        "  start = start + 1"
      ],
      "metadata": {
        "colab": {
          "base_uri": "https://localhost:8080/"
        },
        "id": "dfmHVmjZM48t",
        "outputId": "e60655fd-3b6c-4aa9-c3a4-31ab91a34616"
      },
      "execution_count": null,
      "outputs": [
        {
          "output_type": "stream",
          "name": "stdout",
          "text": [
            "1\n",
            "2\n",
            "3\n",
            "4\n",
            "5\n",
            "6\n",
            "7\n",
            "8\n",
            "9\n",
            "10\n"
          ]
        }
      ]
    },
    {
      "cell_type": "code",
      "source": [
        "10, 9, 8, 7, 6, 5, 4, 3, 2, 1"
      ],
      "metadata": {
        "id": "1QYpLFCwM46I"
      },
      "execution_count": null,
      "outputs": []
    },
    {
      "cell_type": "code",
      "source": [
        "start = 10\n",
        "\n",
        "while start > 0:\n",
        "  print(start)\n",
        "  start -= 1"
      ],
      "metadata": {
        "colab": {
          "base_uri": "https://localhost:8080/"
        },
        "id": "Uc53BTImM43g",
        "outputId": "60421408-4821-4a8e-c130-4cbc7395f55e"
      },
      "execution_count": null,
      "outputs": [
        {
          "output_type": "stream",
          "name": "stdout",
          "text": [
            "10\n",
            "9\n",
            "8\n",
            "7\n",
            "6\n",
            "5\n",
            "4\n",
            "3\n",
            "2\n",
            "1\n"
          ]
        }
      ]
    },
    {
      "cell_type": "code",
      "source": [
        "-> 1, 3, 5, 7, 9, 11, 13\n",
        "-> 2, 4, 6, 8, 10, 12, 14\n",
        "-> 1, 3, 3, 5, 5, 7, 7, 9, 9, 11, 11\n",
        "-> -1, 3, 1, 5, 3, 7, 5, 9, 7"
      ],
      "metadata": {
        "id": "7Trm-QjdM40d"
      },
      "execution_count": null,
      "outputs": []
    },
    {
      "cell_type": "code",
      "source": [
        "# -> 1, 3, 5, 7, 9, 11, 13\n",
        "\n",
        "start = 1\n",
        "\n",
        "while start < 13+1:\n",
        "\n",
        "  if start % 2 == 1:\n",
        "    print(start)\n",
        "  start += 1"
      ],
      "metadata": {
        "colab": {
          "base_uri": "https://localhost:8080/"
        },
        "id": "RTrJbg-UM4xO",
        "outputId": "0f178278-a763-4bf9-a17c-9f98c3df200f"
      },
      "execution_count": null,
      "outputs": [
        {
          "output_type": "stream",
          "name": "stdout",
          "text": [
            "1\n",
            "3\n",
            "5\n",
            "7\n",
            "9\n",
            "11\n",
            "13\n"
          ]
        }
      ]
    },
    {
      "cell_type": "code",
      "source": [
        "#-> 2, 4, 6, 8, 10, 12, 14\n",
        "start = 1\n",
        "\n",
        "while start < 13+1:\n",
        "\n",
        "  if start % 2 == 0:\n",
        "    print(start)\n",
        "  start += 1"
      ],
      "metadata": {
        "id": "2kb7SMnPM4t6",
        "outputId": "1dc2360b-2704-451f-beee-dea61aaf1ca4",
        "colab": {
          "base_uri": "https://localhost:8080/"
        }
      },
      "execution_count": null,
      "outputs": [
        {
          "output_type": "stream",
          "name": "stdout",
          "text": [
            "2\n",
            "4\n",
            "6\n",
            "8\n",
            "10\n",
            "12\n"
          ]
        }
      ]
    },
    {
      "cell_type": "code",
      "source": [
        "#-> 1, 3, 3, 5, 5, 7, 7, 9, 9, 11, 11\n",
        "start = 1\n",
        "\n",
        "while start <= 11:\n",
        "\n",
        "  if start % 2 == 1:\n",
        "    print(start) # This will print all odd values\n",
        "  else:\n",
        "    print(start+1)\n",
        "  start += 1    # This will increment the odd values , will print the same number"
      ],
      "metadata": {
        "id": "L7RpkfMKM4rU",
        "outputId": "b200a747-92ef-42aa-c2fe-3181d0c84ef7",
        "colab": {
          "base_uri": "https://localhost:8080/"
        }
      },
      "execution_count": null,
      "outputs": [
        {
          "output_type": "stream",
          "name": "stdout",
          "text": [
            "1\n",
            "3\n",
            "3\n",
            "5\n",
            "5\n",
            "7\n",
            "7\n",
            "9\n",
            "9\n",
            "11\n",
            "11\n"
          ]
        }
      ]
    },
    {
      "cell_type": "code",
      "source": [
        "#-> -1, 3, 1, 5, 3, 7, 5, 9, 7\n",
        "start = 1\n",
        "\n",
        "while start <= 11:\n",
        "\n",
        "  if start % 2 == 1:\n",
        "    print(start-2)\n",
        "  else:\n",
        "    print(start+1)\n",
        "  start += 1"
      ],
      "metadata": {
        "id": "RHrygkq5M4pC",
        "colab": {
          "base_uri": "https://localhost:8080/"
        },
        "outputId": "b8fac7bd-7bc7-4183-b019-bc345163d696"
      },
      "execution_count": null,
      "outputs": [
        {
          "output_type": "stream",
          "name": "stdout",
          "text": [
            "-1\n",
            "3\n",
            "1\n",
            "5\n",
            "3\n",
            "7\n",
            "5\n",
            "9\n",
            "7\n",
            "11\n",
            "9\n"
          ]
        }
      ]
    },
    {
      "cell_type": "code",
      "source": [
        "#Read a number from user\n",
        "#Sample Test Case : num = 12345\n",
        "#Expected output  : 54321\n",
        "num = int(input(\"Enter a number :\"))\n",
        "reverse = 0\n",
        "while num > 0:\n",
        "          last_digit = num % 10\n",
        "          reverse = reverse * 10 + last_digit\n",
        "          num = num // 10\n",
        "print(\"Reverse Number : \", reverse)\n"
      ],
      "metadata": {
        "id": "xZK0Y87kM4mR",
        "colab": {
          "base_uri": "https://localhost:8080/"
        },
        "outputId": "e98ce3d2-350a-4c52-fe7c-0644ca0277b6"
      },
      "execution_count": null,
      "outputs": [
        {
          "output_type": "stream",
          "name": "stdout",
          "text": [
            "Enter a number :12345\n",
            "Reverse Number :  54321\n"
          ]
        }
      ]
    },
    {
      "cell_type": "code",
      "source": [
        "#Check if the number is palindrome or not\n",
        "num = int(input(\"Original Number :\"))\n",
        "reverse = 0\n",
        "temp = num\n",
        "while num > 0:\n",
        "          last_digit = num % 10\n",
        "          reverse = reverse * 10 + last_digit\n",
        "          num = num // 10\n",
        "print(\"Reverse Number : \", reverse)\n",
        "if temp == reverse:\n",
        "  print(\"Palindrome\")\n",
        "\n",
        "else:\n",
        "  print(\"Not Palindrome\")"
      ],
      "metadata": {
        "id": "ZpK9ht4PM4jr",
        "colab": {
          "base_uri": "https://localhost:8080/"
        },
        "outputId": "81a59cd0-6be9-44a9-d353-7f9f78736af6"
      },
      "execution_count": null,
      "outputs": [
        {
          "output_type": "stream",
          "name": "stdout",
          "text": [
            "Original Number :2121\n",
            "Reverse Number :  1212\n",
            "Not Palindrome\n"
          ]
        }
      ]
    },
    {
      "cell_type": "code",
      "source": [
        "num = int(input(\"Enter the number\"))\n",
        "original_num = num\n",
        "\n",
        "armstrong = 0\n",
        "while num > 0:\n",
        "  last_digit = num % 10\n",
        "  armstrong += last_digit % 10 ** 3\n",
        "  num //= 10\n",
        "  print(armstrong)\n",
        "  print(original_num)\n",
        "  print(last_digit)\n",
        "#Check the given number is amstrong or not\n",
        "if armstrong == original_num:\n",
        "  print(armstrong, \"Is an armstrong number\")\n",
        "\n",
        "else:\n",
        "  print(armstrong, \"Not an armstrong number\")\n"
      ],
      "metadata": {
        "id": "FZoA5K51M4hA"
      },
      "execution_count": null,
      "outputs": []
    },
    {
      "cell_type": "code",
      "source": [
        "#Switch Case\n",
        "while True:\n",
        "\n",
        "  print('''\n",
        "  1. Switch On\n",
        "  2. Switch Off\n",
        "  ''')\n",
        "\n",
        "  user_choise = int(input('Select The Correct option : '))\n",
        "\n",
        "  if user_choise == 1:\n",
        "    print(\"Welcome 😊\")\n",
        "  elif user_choise == 2:\n",
        "    print(\"System Off\")\n",
        "    break\n",
        "  else:\n",
        "    print(\"Please select the correct option...\")"
      ],
      "metadata": {
        "id": "NizcomPIM4ed",
        "colab": {
          "base_uri": "https://localhost:8080/"
        },
        "outputId": "fffac4f9-d794-437a-9fe6-f494e31b3af5"
      },
      "execution_count": null,
      "outputs": [
        {
          "output_type": "stream",
          "name": "stdout",
          "text": [
            "\n",
            "  1. Switch On\n",
            "  2. Switch Off\n",
            "  \n",
            "Select The Correct option : 1\n",
            "Welcome 😊\n",
            "\n",
            "  1. Switch On\n",
            "  2. Switch Off\n",
            "  \n",
            "Select The Correct option : 2\n",
            "System Off\n"
          ]
        }
      ]
    },
    {
      "cell_type": "code",
      "source": [
        "# prompt: Create me a puzzle game\n",
        "\n",
        "import random\n",
        "\n",
        "def generate_puzzle():\n",
        "    \"\"\"Generates a simple numerical puzzle.\"\"\"\n",
        "    num1 = random.randint(1, 20)\n",
        "    num2 = random.randint(1, 20)\n",
        "    operator = random.choice(['+', '-', '*'])\n",
        "    if operator == '+':\n",
        "        answer = num1 + num2\n",
        "    elif operator == '-':\n",
        "        answer = num1 - num2\n",
        "    else:\n",
        "        answer = num1 * num2\n",
        "    question = f\"What is {num1} {operator} {num2}? \"\n",
        "    return question, answer\n",
        "\n",
        "def play_puzzle_game():\n",
        "    \"\"\"Plays the puzzle game.\"\"\"\n",
        "    score = 0\n",
        "    print(\"Welcome to the Simple Math Puzzle Game!\")\n",
        "    print(\"You will be asked to solve some math problems.\")\n",
        "    print(\"Enter 'quit' to exit the game at any time.\")\n",
        "\n",
        "    while True:\n",
        "        question, answer = generate_puzzle()\n",
        "        user_input = input(question)\n",
        "\n",
        "        if user_input.lower() == 'quit':\n",
        "            print(f\"Thanks for playing! Your final score is {score}.\")\n",
        "            break\n",
        "\n",
        "        try:\n",
        "            user_answer = int(user_input)\n",
        "            if user_answer == answer:\n",
        "                print(\"Correct!\")\n",
        "                score += 1\n",
        "            else:\n",
        "                print(f\"Incorrect. The correct answer was {answer}.\")\n",
        "        except ValueError:\n",
        "            print(\"Invalid input. Please enter a number or 'quit'.\")\n",
        "\n",
        "play_puzzle_game()"
      ],
      "metadata": {
        "id": "Q7eNbg34M4b9",
        "colab": {
          "base_uri": "https://localhost:8080/"
        },
        "outputId": "b8f6f508-dc10-4ad0-f6da-27fc03305e5b"
      },
      "execution_count": null,
      "outputs": [
        {
          "output_type": "stream",
          "name": "stdout",
          "text": [
            "Welcome to the Simple Math Puzzle Game!\n",
            "You will be asked to solve some math problems.\n",
            "Enter 'quit' to exit the game at any time.\n",
            "What is 20 * 12? 240\n",
            "Correct!\n",
            "What is 17 * 17? 243\n",
            "Incorrect. The correct answer was 289.\n",
            "What is 17 - 6? 11\n",
            "Correct!\n",
            "What is 5 - 9? -4\n",
            "Correct!\n",
            "What is 1 - 3? -2\n",
            "Correct!\n",
            "What is 12 * 11? 1\n",
            "Incorrect. The correct answer was 132.\n",
            "What is 17 + 16? quit\n",
            "Thanks for playing! Your final score is 4.\n"
          ]
        }
      ]
    },
    {
      "cell_type": "code",
      "source": [
        "# prompt: Create me a advanced login page with otp verification\n",
        "\n",
        "import random\n",
        "\n",
        "# Simple database to store user data (username, password, OTP secret)\n",
        "users = {\n",
        "    \"testuser\": {\"password\": \"password123\", \"otp_secret\": None}\n",
        "}\n",
        "\n",
        "def generate_otp():\n",
        "    \"\"\"Generates a 6-digit OTP.\"\"\"\n",
        "    return str(random.randint(100000, 999999))\n",
        "\n",
        "def send_otp(username, otp):\n",
        "    \"\"\"Simulates sending an OTP (prints it to the console).\"\"\"\n",
        "    print(f\"OTP for {username}: {otp}\")\n",
        "    users[username][\"otp_secret\"] = otp # Store the OTP temporarily\n",
        "\n",
        "def verify_otp(username, entered_otp):\n",
        "    \"\"\"Verifies the entered OTP.\"\"\"\n",
        "    stored_otp = users[username].get(\"otp_secret\")\n",
        "    if stored_otp and stored_otp == entered_otp:\n",
        "        users[username][\"otp_secret\"] = None  # Clear the used OTP\n",
        "        return True\n",
        "    return False\n",
        "\n",
        "def login():\n",
        "    \"\"\"Handles the login process with username, password, and OTP.\"\"\"\n",
        "    username = input(\"Enter username: \")\n",
        "    password = input(\"Enter password: \")\n",
        "\n",
        "    if username in users and users[username][\"password\"] == password:\n",
        "        print(\"Login successful. Generating OTP...\")\n",
        "        otp = generate_otp()\n",
        "        send_otp(username, otp)\n",
        "\n",
        "        entered_otp = input(\"Enter the OTP sent to your device: \")\n",
        "        if verify_otp(username, entered_otp):\n",
        "            print(\"OTP verified. Welcome!\")\n",
        "            # You can redirect the user to the main application or dashboard here\n",
        "        else:\n",
        "            print(\"Invalid OTP. Login failed.\")\n",
        "    else:\n",
        "        print(\"Invalid username or password.\")\n",
        "\n",
        "# Run the login process\n",
        "login()"
      ],
      "metadata": {
        "id": "FWv-9d7EM4Zf",
        "colab": {
          "base_uri": "https://localhost:8080/"
        },
        "outputId": "0327b43e-a061-4599-be2d-b888719b18b2"
      },
      "execution_count": null,
      "outputs": [
        {
          "output_type": "stream",
          "name": "stdout",
          "text": [
            "Enter username: Hemant\n",
            "Enter password: hemant@2005\n",
            "Invalid username or password.\n"
          ]
        }
      ]
    },
    {
      "cell_type": "code",
      "source": [
        "import random\n",
        "\n",
        "while True:\n",
        "    print('''\n",
        "  1. Start Game\n",
        "  2. Exit\n",
        "  ''')\n",
        "\n",
        "    try:\n",
        "        user_choice = int(input(\"Select Option :\"))\n",
        "\n",
        "        if user_choice == 1:\n",
        "            system_generated_number = random.randint(0, 9)\n",
        "            print(\"I have selected a number between 0 and 9. Try to guess it!\")\n",
        "\n",
        "            guess_count = 0\n",
        "            max_guesses = 3\n",
        "\n",
        "            while guess_count < max_guesses:\n",
        "                try:\n",
        "                    user_number = int(input(f'Guess {guess_count + 1} of {max_guesses}: '))\n",
        "\n",
        "                    # validation\n",
        "                    if user_number == system_generated_number:\n",
        "                        print(\"Congrats.. You won..\")\n",
        "                        break\n",
        "                    else:\n",
        "                        print(\"Try again\")\n",
        "                        guess_count += 1\n",
        "\n",
        "                except ValueError:\n",
        "                    print(\"Invalid input. Please enter a number.\")\n",
        "                    guess_count += 1 # Count invalid input as a guess\n",
        "\n",
        "            if guess_count == max_guesses and user_number != system_generated_number:\n",
        "                print(f\"You ran out of guesses. The number was {system_generated_number}.\")\n",
        "\n",
        "\n",
        "        elif user_choice == 2:\n",
        "            print(\"Thanks for using\")\n",
        "            break # Exit the main loop\n",
        "\n",
        "        else:\n",
        "            print(\"Invalid option selected.\")\n",
        "\n",
        "    except ValueError:\n",
        "        print(\"Invalid input. Please enter a number.\")"
      ],
      "metadata": {
        "id": "tgzo2WTaM4XL",
        "colab": {
          "base_uri": "https://localhost:8080/"
        },
        "outputId": "a8b2f3b1-446e-4466-818b-4753c2125099"
      },
      "execution_count": null,
      "outputs": [
        {
          "output_type": "stream",
          "name": "stdout",
          "text": [
            "\n",
            "  1. Start Game\n",
            "  2. Exit\n",
            "  \n",
            "Select Option :1\n",
            "I have selected a number between 0 and 9. Try to guess it!\n",
            "Guess 1 of 3: 6\n",
            "Try again\n",
            "Guess 2 of 3: 9\n",
            "Try again\n",
            "Guess 3 of 3: 4\n",
            "Try again\n",
            "You ran out of guesses. The number was 0.\n",
            "\n",
            "  1. Start Game\n",
            "  2. Exit\n",
            "  \n",
            "Select Option :2\n",
            "Thanks for using\n"
          ]
        }
      ]
    },
    {
      "cell_type": "code",
      "source": [
        "start, end = map(int, input(\"Enter two values : \").split(','))\n",
        "\n",
        "if start < end:\n",
        "  for x in range(start, end+1):\n",
        "    print(x)\n",
        "else:\n",
        "  for x in range(start, end-1, -1):\n",
        "    print(x)"
      ],
      "metadata": {
        "id": "SH-z88jzM4Ui",
        "colab": {
          "base_uri": "https://localhost:8080/"
        },
        "outputId": "d922feb1-579f-4da5-c194-201fe0416b35"
      },
      "execution_count": null,
      "outputs": [
        {
          "output_type": "stream",
          "name": "stdout",
          "text": [
            "Enter two values : 1,10\n",
            "1\n",
            "2\n",
            "3\n",
            "4\n",
            "5\n",
            "6\n",
            "7\n",
            "8\n",
            "9\n",
            "10\n"
          ]
        }
      ]
    },
    {
      "cell_type": "code",
      "source": [
        "for row in range(1, 6):\n",
        "  for col in range(1, row+1):\n",
        "    print(\"*\", end=\" \")\n",
        "  print()"
      ],
      "metadata": {
        "id": "iGj-Ir7vM4SN",
        "colab": {
          "base_uri": "https://localhost:8080/"
        },
        "outputId": "ee3b23de-6819-4f3c-e8da-32625a3a5ff1"
      },
      "execution_count": null,
      "outputs": [
        {
          "output_type": "stream",
          "name": "stdout",
          "text": [
            "* \n",
            "* * \n",
            "* * * \n",
            "* * * * \n",
            "* * * * * \n"
          ]
        }
      ]
    },
    {
      "cell_type": "code",
      "source": [
        "for row in range(1,6):\n",
        "  for col in range(1,6):\n",
        "    print(\"*\",end=\" \")\n",
        "  print()"
      ],
      "metadata": {
        "id": "vqSHz1vtM4P1",
        "colab": {
          "base_uri": "https://localhost:8080/"
        },
        "outputId": "86e54a2b-6a9c-4435-a737-bd8e8574baae"
      },
      "execution_count": null,
      "outputs": [
        {
          "output_type": "stream",
          "name": "stdout",
          "text": [
            "* * * * * \n",
            "* * * * * \n",
            "* * * * * \n",
            "* * * * * \n",
            "* * * * * \n"
          ]
        }
      ]
    },
    {
      "cell_type": "code",
      "source": [
        "for row in range(1,4): #\n",
        "  for col in range(1,4):\n",
        "    print(row*10+col, end=\" \")\n",
        "  print()"
      ],
      "metadata": {
        "id": "9pCbdV8aM4NP",
        "colab": {
          "base_uri": "https://localhost:8080/"
        },
        "outputId": "72e08d1d-67ad-451b-d742-2a38e5b044b5"
      },
      "execution_count": null,
      "outputs": [
        {
          "output_type": "stream",
          "name": "stdout",
          "text": [
            "11 12 13 \n",
            "21 22 23 \n",
            "31 32 33 \n"
          ]
        }
      ]
    },
    {
      "cell_type": "code",
      "source": [
        "for row in range(1,4): #\n",
        "  for col in range(1,5):\n",
        "    if col!=2 and col!=4:\n",
        "      print(row*10+col, end=\" \")\n",
        "    else:\n",
        "      print(\"0 \",end=\" \")\n",
        "  print()"
      ],
      "metadata": {
        "id": "hYv8vHAnM4Kr",
        "colab": {
          "base_uri": "https://localhost:8080/"
        },
        "outputId": "110074b5-dbdb-4299-b7b7-f4e42f31c34f"
      },
      "execution_count": null,
      "outputs": [
        {
          "output_type": "stream",
          "name": "stdout",
          "text": [
            "11 0  13 0  \n",
            "21 0  23 0  \n",
            "31 0  33 0  \n"
          ]
        }
      ]
    },
    {
      "cell_type": "code",
      "source": [
        "for row in range(1,11):\n",
        "  for col in range(1,11):\n",
        "    if row % 2 !=0:\n",
        "      print(\"`\", end=\" \")\n",
        "    else:\n",
        "      print(\"^\", end=\" \")\n",
        "  print()"
      ],
      "metadata": {
        "id": "0vLZ57e-M4IS",
        "colab": {
          "base_uri": "https://localhost:8080/"
        },
        "outputId": "3b08ab3a-cea9-40f4-99d4-66fa982c3993"
      },
      "execution_count": null,
      "outputs": [
        {
          "output_type": "stream",
          "name": "stdout",
          "text": [
            "` ` ` ` ` ` ` ` ` ` \n",
            "^ ^ ^ ^ ^ ^ ^ ^ ^ ^ \n",
            "` ` ` ` ` ` ` ` ` ` \n",
            "^ ^ ^ ^ ^ ^ ^ ^ ^ ^ \n",
            "` ` ` ` ` ` ` ` ` ` \n",
            "^ ^ ^ ^ ^ ^ ^ ^ ^ ^ \n",
            "` ` ` ` ` ` ` ` ` ` \n",
            "^ ^ ^ ^ ^ ^ ^ ^ ^ ^ \n",
            "` ` ` ` ` ` ` ` ` ` \n",
            "^ ^ ^ ^ ^ ^ ^ ^ ^ ^ \n"
          ]
        }
      ]
    },
    {
      "cell_type": "code",
      "source": [
        "for row in range(1,10):\n",
        "  for col in range(1,row+1):\n",
        "    if col % 2 != 0:\n",
        "      print(\"1\", end=\" \")\n",
        "    else:\n",
        "      print(\"0\",end=\" \")\n",
        "  print()\n"
      ],
      "metadata": {
        "id": "bZoHgKssM4F4",
        "colab": {
          "base_uri": "https://localhost:8080/"
        },
        "outputId": "adf9eed5-71f7-4aed-a5d2-2b3a4eb1106d"
      },
      "execution_count": null,
      "outputs": [
        {
          "output_type": "stream",
          "name": "stdout",
          "text": [
            "1 \n",
            "1 0 \n",
            "1 0 1 \n",
            "1 0 1 0 \n",
            "1 0 1 0 1 \n",
            "1 0 1 0 1 0 \n",
            "1 0 1 0 1 0 1 \n",
            "1 0 1 0 1 0 1 0 \n",
            "1 0 1 0 1 0 1 0 1 \n"
          ]
        }
      ]
    },
    {
      "cell_type": "code",
      "source": [
        "for row in range(1,5):\n",
        "  for col in range(1,5):    #Dont think about the middle part just print the border.\n",
        "    if row == 1 or row == 4 or col == 1 or col == 4:\n",
        "      print(col%2, end=\" \")\n",
        "    else:\n",
        "      print(\" \", end=\" \")\n",
        "  print()"
      ],
      "metadata": {
        "id": "RRtibJbiM4Di",
        "colab": {
          "base_uri": "https://localhost:8080/"
        },
        "outputId": "2efa73c6-c2d4-4225-f174-21c599b3b58f"
      },
      "execution_count": null,
      "outputs": [
        {
          "output_type": "stream",
          "name": "stdout",
          "text": [
            "1 0 1 0 \n",
            "1     0 \n",
            "1     0 \n",
            "1 0 1 0 \n"
          ]
        }
      ]
    },
    {
      "cell_type": "code",
      "source": [
        "for row in range(1,5):\n",
        "  for col in range(1,5):\n",
        "    if row == 1 or row ==4 or col == 1 or col == 4 or row == col:\n",
        "      print(col%2, end=\" \")\n",
        "    else:\n",
        "      print(\" \", end=\" \")\n",
        "  print()"
      ],
      "metadata": {
        "id": "zrbqF-uFM4A_",
        "colab": {
          "base_uri": "https://localhost:8080/"
        },
        "outputId": "3b92df62-0e97-4787-9de1-4fb3bebd7476"
      },
      "execution_count": null,
      "outputs": [
        {
          "output_type": "stream",
          "name": "stdout",
          "text": [
            "1 0 1 0 \n",
            "1 0   0 \n",
            "1   1 0 \n",
            "1 0 1 0 \n"
          ]
        }
      ]
    },
    {
      "cell_type": "code",
      "source": [
        "# prompt: create me a otp generator project\n",
        "\n",
        "import random\n",
        "\n",
        "def generate_otp(length=6):\n",
        "  \"\"\"Generates a random OTP of the specified length.\"\"\"\n",
        "  if not isinstance(length, int) or length <= 0:\n",
        "    return \"Error: OTP length must be a positive integer.\"\n",
        "\n",
        "  otp_characters = \"0123456789\"\n",
        "  otp = \"\".join(random.choice(otp_characters) for _ in range(length))\n",
        "  return otp\n",
        "\n",
        "def otp_generator_project():\n",
        "  \"\"\"Runs a simple OTP generator project.\"\"\"\n",
        "  print(\"Welcome to the OTP Generator!\")\n",
        "\n",
        "  while True:\n",
        "    print(\"\\nOptions:\")\n",
        "    print(\"1. Generate a new OTP\")\n",
        "    print(\"2. Exit\")\n",
        "\n",
        "    try:\n",
        "      choice = int(input(\"Enter your choice: \"))\n",
        "\n",
        "      if choice == 1:\n",
        "        try:\n",
        "          otp_length = int(input(\"Enter the desired length for the OTP (e.g., 6): \"))\n",
        "          generated_otp = generate_otp(otp_length)\n",
        "          print(f\"\\nYour generated OTP is: {generated_otp}\")\n",
        "        except ValueError:\n",
        "          print(\"Invalid input. Please enter a valid number for the OTP length.\")\n",
        "      elif choice == 2:\n",
        "        print(\"Exiting OTP Generator. Ja re ben kaa sot baap ko mat sikha!\")\n",
        "        break\n",
        "      else:\n",
        "        print(\"Invalid choice. Please select 1 or 2.\")\n",
        "\n",
        "    except ValueError:\n",
        "      print(\"Invalid input. Please enter a number.\")\n",
        "\n",
        "# Run the OTP generator project\n",
        "otp_generator_project()\n"
      ],
      "metadata": {
        "id": "sua8hM1tM3-h",
        "colab": {
          "base_uri": "https://localhost:8080/"
        },
        "outputId": "432affd0-9d0d-4698-85a3-29d2692064f3"
      },
      "execution_count": null,
      "outputs": [
        {
          "output_type": "stream",
          "name": "stdout",
          "text": [
            "Welcome to the OTP Generator!\n",
            "\n",
            "Options:\n",
            "1. Generate a new OTP\n",
            "2. Exit\n",
            "Enter your choice: 2\n",
            "Exiting OTP Generator. Ja re ben kaa sot baap ko mat sikha!\n"
          ]
        }
      ]
    },
    {
      "cell_type": "code",
      "source": [
        "# prompt: Create me a hotel billing management project\n",
        "\n",
        "class FoodItem:\n",
        "    def __init__(self, name, price):\n",
        "        self.name = name\n",
        "        self.price = price\n",
        "\n",
        "class HotelBilling:\n",
        "    def __init__(self, hotel_name):\n",
        "        self.hotel_name = hotel_name\n",
        "        self.menu = {\n",
        "            1: FoodItem(\"Banmaska\", 30),\n",
        "            2: FoodItem(\"Water\", 50),\n",
        "            3: FoodItem(\"Vada\", 20),\n",
        "            4: FoodItem(\"Coffee\", 25),\n",
        "            5: FoodItem(\"Tea\", 20),\n",
        "        }\n",
        "        self.order = {}\n",
        "        self.total_amount = 0\n",
        "\n",
        "    def display_menu(self):\n",
        "        print(f\"\\n--- {self.hotel_name} Menu ---\")\n",
        "        for key, item in self.menu.items():\n",
        "            print(f\"{key}. {item.name}: ₹{item.price}\")\n",
        "        print(\"-----------------------\")\n",
        "\n",
        "    def take_order(self):\n",
        "        while True:\n",
        "            try:\n",
        "                choice = input(\"Enter the item number you want to order (or 'done' to finish): \")\n",
        "                if choice.lower() == 'done':\n",
        "                    break\n",
        "                item_number = int(choice)\n",
        "                if item_number in self.menu:\n",
        "                    quantity = int(input(f\"Enter the quantity for {self.menu[item_number].name}: \"))\n",
        "                    if quantity > 0:\n",
        "                        if item_number in self.order:\n",
        "                            self.order[item_number]['quantity'] += quantity\n",
        "                        else:\n",
        "                            self.order[item_number] = {'item': self.menu[item_number], 'quantity': quantity}\n",
        "                        print(f\"{quantity} x {self.menu[item_number].name} added to your order.\")\n",
        "                    else:\n",
        "                        print(\"Quantity must be a positive number.\")\n",
        "                else:\n",
        "                    print(\"Invalid item number. Please select from the menu.\")\n",
        "            except ValueError:\n",
        "                print(\"Invalid input. Please enter a number for the item or quantity.\")\n",
        "\n",
        "    def generate_bill(self):\n",
        "        self.total_amount = 0\n",
        "        print(f\"\\n--- {self.hotel_name} Bill ---\")\n",
        "        if not self.order:\n",
        "            print(\"No items in the order.\")\n",
        "            return\n",
        "\n",
        "        print(\"Item              Quantity  Price   Subtotal\")\n",
        "        print(\"---------------------------------------------\")\n",
        "        for item_number, order_details in self.order.items():\n",
        "            item = order_details['item']\n",
        "            quantity = order_details['quantity']\n",
        "            subtotal = item.price * quantity\n",
        "            self.total_amount += subtotal\n",
        "            print(f\"{item.name:<18}{quantity:<10}₹{item.price:<7}₹{subtotal}\")\n",
        "\n",
        "        print(\"---------------------------------------------\")\n",
        "        print(f\"Total Amount:                        ₹{self.total_amount}\")\n",
        "        print(\"---------------------------------------------\")\n",
        "        print(\"Thank you for your visit!\")\n",
        "\n",
        "    def run(self):\n",
        "        print(f\"Welcome to {self.hotel_name} Billing System!\")\n",
        "        while True:\n",
        "            self.display_menu()\n",
        "            self.take_order()\n",
        "            self.generate_bill()\n",
        "\n",
        "            another_order = input(\"Do you want to place another order? (yes/no): \").lower()\n",
        "            if another_order != 'yes':\n",
        "                print(\"Exiting billing system.\")\n",
        "                break\n",
        "            else:\n",
        "                self.order = {} # Reset order for new billing cycle\n",
        "                self.total_amount = 0\n",
        "\n",
        "# Create a hotel billing instance and run it\n",
        "my_hotel = HotelBilling(\"Delicious Bites\")\n",
        "my_hotel.run()\n"
      ],
      "metadata": {
        "colab": {
          "base_uri": "https://localhost:8080/"
        },
        "id": "pS2XUjjd40lE",
        "outputId": "f95ce8fe-2090-48e7-ff0e-fd074ecbb770"
      },
      "execution_count": null,
      "outputs": [
        {
          "output_type": "stream",
          "name": "stdout",
          "text": [
            "Welcome to Delicious Bites Billing System!\n",
            "\n",
            "--- Delicious Bites Menu ---\n",
            "1. Banmaska: ₹30\n",
            "2. Water: ₹50\n",
            "3. Vada: ₹20\n",
            "4. Coffee: ₹25\n",
            "5. Tea: ₹20\n",
            "-----------------------\n",
            "Enter the item number you want to order (or 'done' to finish): 1\n",
            "Enter the quantity for Banmaska: 1\n",
            "1 x Banmaska added to your order.\n",
            "Enter the item number you want to order (or 'done' to finish): done\n",
            "\n",
            "--- Delicious Bites Bill ---\n",
            "Item              Quantity  Price   Subtotal\n",
            "---------------------------------------------\n",
            "Banmaska          1         ₹30     ₹30\n",
            "---------------------------------------------\n",
            "Total Amount:                           ₹30\n",
            "---------------------------------------------\n",
            "Thank you for your visit!\n",
            "Do you want to place another order? (yes/no): no\n",
            "Exiting billing system.\n"
          ]
        }
      ]
    },
    {
      "cell_type": "code",
      "source": [],
      "metadata": {
        "id": "NrhZ6Ag_40u-"
      },
      "execution_count": null,
      "outputs": []
    },
    {
      "cell_type": "code",
      "source": [],
      "metadata": {
        "id": "Qvil6mER40xr"
      },
      "execution_count": null,
      "outputs": []
    },
    {
      "cell_type": "code",
      "source": [],
      "metadata": {
        "id": "qaaryBDT400F"
      },
      "execution_count": null,
      "outputs": []
    },
    {
      "cell_type": "code",
      "source": [],
      "metadata": {
        "id": "HtVjNTyq402z"
      },
      "execution_count": null,
      "outputs": []
    },
    {
      "cell_type": "code",
      "source": [],
      "metadata": {
        "id": "8qvHFr8t405N"
      },
      "execution_count": null,
      "outputs": []
    },
    {
      "cell_type": "code",
      "source": [],
      "metadata": {
        "id": "1-lXdv1U407y"
      },
      "execution_count": null,
      "outputs": []
    },
    {
      "cell_type": "code",
      "source": [],
      "metadata": {
        "id": "QixpcyM540-k"
      },
      "execution_count": null,
      "outputs": []
    },
    {
      "cell_type": "code",
      "source": [],
      "metadata": {
        "id": "iCtpAIjO41A4"
      },
      "execution_count": null,
      "outputs": []
    },
    {
      "cell_type": "code",
      "source": [],
      "metadata": {
        "id": "SAMSOoGC41DR"
      },
      "execution_count": null,
      "outputs": []
    },
    {
      "cell_type": "code",
      "source": [],
      "metadata": {
        "id": "WwEByA7E41G1"
      },
      "execution_count": null,
      "outputs": []
    }
  ]
}