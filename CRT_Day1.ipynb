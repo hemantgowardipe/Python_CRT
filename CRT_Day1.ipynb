{
  "nbformat": 4,
  "nbformat_minor": 0,
  "metadata": {
    "colab": {
      "provenance": [],
      "include_colab_link": true
    },
    "kernelspec": {
      "name": "python3",
      "display_name": "Python 3"
    },
    "language_info": {
      "name": "python"
    }
  },
  "cells": [
    {
      "cell_type": "markdown",
      "metadata": {
        "id": "view-in-github",
        "colab_type": "text"
      },
      "source": [
        "<a href=\"https://colab.research.google.com/github/hemantgowardipe/Python_CRT/blob/main/CRT_Day1.ipynb\" target=\"_parent\"><img src=\"https://colab.research.google.com/assets/colab-badge.svg\" alt=\"Open In Colab\"/></a>"
      ]
    },
    {
      "cell_type": "code",
      "execution_count": null,
      "metadata": {
        "id": "HB-E9NNyaHyY"
      },
      "outputs": [],
      "source": []
    },
    {
      "cell_type": "code",
      "source": [
        "Tokens\n",
        "---------------------\n",
        "\n",
        "  -> Identifier\n",
        "  -> Literal\n",
        "  -> Symbol\n",
        "  -> String\n",
        "\n",
        "\n",
        "Variable Declaration\n",
        "-----------------------\n",
        "\n",
        "  -> a to z\n",
        "  -> A to Z\n",
        "  -> variable name must be start with character (numbers are allow)\n",
        "  -> _"
      ],
      "metadata": {
        "id": "PhxLNJPscjWg"
      },
      "execution_count": null,
      "outputs": []
    },
    {
      "cell_type": "code",
      "source": [
        "name1 = 'dhanraj'\n",
        "name2 = \"dhanraj\"\n",
        "name3 = '''dhanraj'''\n",
        "name4 = \"\"\"dhanraj\"\"\""
      ],
      "metadata": {
        "id": "mC4ZP31KcjTU"
      },
      "execution_count": null,
      "outputs": []
    },
    {
      "cell_type": "code",
      "source": [
        "print(name1)\n",
        "print(name2)\n",
        "print(name3)\n",
        "print(name4)"
      ],
      "metadata": {
        "id": "ImFYqm7pcjQ8",
        "colab": {
          "base_uri": "https://localhost:8080/"
        },
        "outputId": "1e573f91-e80d-4d11-953f-175939006584"
      },
      "execution_count": null,
      "outputs": [
        {
          "output_type": "stream",
          "name": "stdout",
          "text": [
            "dhanraj\n",
            "dhanraj\n",
            "dhanraj\n",
            "dhanraj\n"
          ]
        }
      ]
    },
    {
      "cell_type": "code",
      "source": [
        "\"Hello, 'Dhanraj', Good Afternoon ?\""
      ],
      "metadata": {
        "id": "ojkmY28XcjOI"
      },
      "execution_count": null,
      "outputs": []
    },
    {
      "cell_type": "code",
      "source": [
        "print('''\"Hello, 'Dhanraj', Good Afternoon ?\"''')"
      ],
      "metadata": {
        "id": "6zNkVWwacjLu",
        "colab": {
          "base_uri": "https://localhost:8080/"
        },
        "outputId": "a7eb33bb-fbe0-4008-8fe2-0f134838db02"
      },
      "execution_count": null,
      "outputs": [
        {
          "output_type": "stream",
          "name": "stdout",
          "text": [
            "\"Hello, 'Dhanraj', Good Afternoon ?\"\n"
          ]
        }
      ]
    },
    {
      "cell_type": "code",
      "source": [
        "print(\"\"\" \"Hello, 'Dhanraj', Good Afternoon ?\" \"\"\")"
      ],
      "metadata": {
        "id": "nKnb7KsScjJB",
        "colab": {
          "base_uri": "https://localhost:8080/"
        },
        "outputId": "f4ac1276-d9af-497d-d811-2bc74ef58dd6"
      },
      "execution_count": null,
      "outputs": [
        {
          "output_type": "stream",
          "name": "stdout",
          "text": [
            " \"Hello, 'Dhanraj', Good Afternoon ?\" \n"
          ]
        }
      ]
    },
    {
      "cell_type": "code",
      "source": [
        "'''\n",
        "document string\n",
        "'''\n",
        "print(__doc__)\n",
        "# single line"
      ],
      "metadata": {
        "id": "0DsQuGPqcjGm",
        "colab": {
          "base_uri": "https://localhost:8080/"
        },
        "outputId": "6e155508-f72d-4f36-af5d-255cf992bd5d"
      },
      "execution_count": null,
      "outputs": [
        {
          "output_type": "stream",
          "name": "stdout",
          "text": [
            "\n",
            "document string\n",
            "\n"
          ]
        }
      ]
    },
    {
      "cell_type": "code",
      "source": [
        "int\n",
        "float\n",
        "complex\n",
        "bool"
      ],
      "metadata": {
        "id": "cMlKGYRycjEA"
      },
      "execution_count": null,
      "outputs": []
    },
    {
      "cell_type": "code",
      "source": [
        "num = 10\n",
        "print(num)"
      ],
      "metadata": {
        "id": "AD262VGYcjBm",
        "colab": {
          "base_uri": "https://localhost:8080/"
        },
        "outputId": "63200676-4506-4010-e767-350263a39f3a"
      },
      "execution_count": null,
      "outputs": [
        {
          "output_type": "stream",
          "name": "stdout",
          "text": [
            "10\n"
          ]
        }
      ]
    },
    {
      "cell_type": "code",
      "source": [
        "print(id(num))"
      ],
      "metadata": {
        "id": "HP77nN_pci_F",
        "colab": {
          "base_uri": "https://localhost:8080/"
        },
        "outputId": "2e985113-51f7-4ed2-dddb-083ab2d4e8c5"
      },
      "execution_count": null,
      "outputs": [
        {
          "output_type": "stream",
          "name": "stdout",
          "text": [
            "10751144\n"
          ]
        }
      ]
    },
    {
      "cell_type": "code",
      "source": [
        "print(type(num))"
      ],
      "metadata": {
        "id": "P_N8e9igci88",
        "colab": {
          "base_uri": "https://localhost:8080/"
        },
        "outputId": "f865926e-adef-4059-ba72-66ca4f0c088c"
      },
      "execution_count": null,
      "outputs": [
        {
          "output_type": "stream",
          "name": "stdout",
          "text": [
            "<class 'int'>\n"
          ]
        }
      ]
    },
    {
      "cell_type": "code",
      "source": [
        "num = 10\n",
        "num = 20\n",
        "print(num)"
      ],
      "metadata": {
        "id": "ItyKiWLFci6F",
        "colab": {
          "base_uri": "https://localhost:8080/"
        },
        "outputId": "6f4bb784-b57a-4712-b370-0349d34b8340"
      },
      "execution_count": null,
      "outputs": [
        {
          "output_type": "stream",
          "name": "stdout",
          "text": [
            "20\n"
          ]
        }
      ]
    },
    {
      "cell_type": "code",
      "source": [
        "num = 10\n",
        "print(id(num), num)\n",
        "num = 20\n",
        "print(id(num), num)\n",
        "print(num)\n",
        "print(id(num), num)"
      ],
      "metadata": {
        "id": "Ifsd9_xdci3k",
        "colab": {
          "base_uri": "https://localhost:8080/"
        },
        "outputId": "315093ad-fa20-4475-985d-0c74838a4097"
      },
      "execution_count": null,
      "outputs": [
        {
          "output_type": "stream",
          "name": "stdout",
          "text": [
            "10751144 10\n",
            "10751464 20\n",
            "20\n",
            "10751464 20\n"
          ]
        }
      ]
    },
    {
      "cell_type": "code",
      "source": [
        "num = 10\n",
        "num2 = 10\n",
        "print(id(num), num)\n",
        "print(id(num2), num2)"
      ],
      "metadata": {
        "id": "BgDKnHO_ci02",
        "colab": {
          "base_uri": "https://localhost:8080/"
        },
        "outputId": "17858b8f-b7c6-4733-9364-568e23bc63d7"
      },
      "execution_count": null,
      "outputs": [
        {
          "output_type": "stream",
          "name": "stdout",
          "text": [
            "10751144 10\n",
            "10751144 10\n"
          ]
        }
      ]
    },
    {
      "cell_type": "code",
      "source": [
        "num1 = 10\n",
        "num2 = 20\n",
        "print(num1, num2)"
      ],
      "metadata": {
        "id": "_Vj_pulLciyt",
        "colab": {
          "base_uri": "https://localhost:8080/"
        },
        "outputId": "bf1613b6-e97e-420b-ffec-e14c173acb0e"
      },
      "execution_count": null,
      "outputs": [
        {
          "output_type": "stream",
          "name": "stdout",
          "text": [
            "10 20\n"
          ]
        }
      ]
    },
    {
      "cell_type": "code",
      "source": [
        "num1, num2 = 10, 20\n",
        "print(num1, num2)"
      ],
      "metadata": {
        "id": "OTscblFUciwS",
        "colab": {
          "base_uri": "https://localhost:8080/"
        },
        "outputId": "77746488-7261-41d5-f9f5-09de5b888e38"
      },
      "execution_count": null,
      "outputs": [
        {
          "output_type": "stream",
          "name": "stdout",
          "text": [
            "10 20\n"
          ]
        }
      ]
    },
    {
      "cell_type": "code",
      "source": [
        "num1 = num2 = num3 = 10\n",
        "print(num1, num2,num3)"
      ],
      "metadata": {
        "id": "rSnlDohYcitn",
        "colab": {
          "base_uri": "https://localhost:8080/"
        },
        "outputId": "f2ac64ce-e354-4437-d61a-e67e5f9329da"
      },
      "execution_count": null,
      "outputs": [
        {
          "output_type": "stream",
          "name": "stdout",
          "text": [
            "10 10 10\n"
          ]
        }
      ]
    },
    {
      "cell_type": "code",
      "source": [
        "print(num1, num2, sep = \"-\")"
      ],
      "metadata": {
        "id": "6nf-RsmycirP",
        "colab": {
          "base_uri": "https://localhost:8080/"
        },
        "outputId": "e600fa6d-06aa-4838-de88-58177ba6c442"
      },
      "execution_count": null,
      "outputs": [
        {
          "output_type": "stream",
          "name": "stdout",
          "text": [
            "10-10\n"
          ]
        }
      ]
    },
    {
      "cell_type": "code",
      "source": [
        "Swap two numbers without using third variablr\n",
        "\n",
        "Sample input    : num1 =10, num2 = 20\n",
        "Expected output : num1 =20, num2 = 10"
      ],
      "metadata": {
        "id": "ar_9hn9zcio7"
      },
      "execution_count": null,
      "outputs": []
    },
    {
      "cell_type": "code",
      "source": [
        "num1, num2 = 10, 20\n",
        "print(\"num1 -> \", num1, \"num2 -> \", num2)\n",
        "num1, num2 = num2, num1\n",
        "print(\"After swapping num1 -> \", num1, \"num2 -> \", num2)"
      ],
      "metadata": {
        "id": "ZxQUyFM5cimq",
        "colab": {
          "base_uri": "https://localhost:8080/"
        },
        "outputId": "e0ac7f06-9863-4dea-b8f3-e36bac4fc9ac"
      },
      "execution_count": null,
      "outputs": [
        {
          "output_type": "stream",
          "name": "stdout",
          "text": [
            "num1 ->  10 num2 ->  20\n",
            "After swapping num1 ->  20 num2 ->  10\n"
          ]
        }
      ]
    },
    {
      "cell_type": "code",
      "source": [
        "user_input = input(\"prompt/message : \")  # input --> v-3\n",
        "type(user_input)"
      ],
      "metadata": {
        "id": "F-skSsXdcikB",
        "colab": {
          "base_uri": "https://localhost:8080/"
        },
        "outputId": "5d49f66f-a80c-4482-dff7-1f3cb858f733"
      },
      "execution_count": null,
      "outputs": [
        {
          "name": "stdout",
          "output_type": "stream",
          "text": [
            "prompt/message : 10\n"
          ]
        },
        {
          "output_type": "execute_result",
          "data": {
            "text/plain": [
              "str"
            ]
          },
          "metadata": {},
          "execution_count": 3
        }
      ]
    },
    {
      "cell_type": "code",
      "source": [
        "raw_input()  -> version - 2"
      ],
      "metadata": {
        "id": "0oNb9MCtcihl"
      },
      "execution_count": null,
      "outputs": []
    },
    {
      "cell_type": "code",
      "source": [
        "Type casting\n",
        "------------------\n",
        "  int(), bool, float, str"
      ],
      "metadata": {
        "id": "ZPtb2DYvcifd"
      },
      "execution_count": null,
      "outputs": []
    },
    {
      "cell_type": "code",
      "source": [
        "user_input = int(input(\"prompt/message : \"))  # input --> v-3\n",
        "type(user_input)"
      ],
      "metadata": {
        "id": "1Jh7ejv9cic4",
        "colab": {
          "base_uri": "https://localhost:8080/"
        },
        "outputId": "94bc0e21-917e-4fb8-b36e-fb9551a98232"
      },
      "execution_count": null,
      "outputs": [
        {
          "name": "stdout",
          "output_type": "stream",
          "text": [
            "prompt/message : 10\n"
          ]
        },
        {
          "output_type": "execute_result",
          "data": {
            "text/plain": [
              "int"
            ]
          },
          "metadata": {},
          "execution_count": 6
        }
      ]
    },
    {
      "cell_type": "code",
      "source": [
        "user_input = bool(input(\"prompt/message : \"))  # input --> v-3\n",
        "type(user_input)"
      ],
      "metadata": {
        "id": "-tIFEljsciaj",
        "colab": {
          "base_uri": "https://localhost:8080/"
        },
        "outputId": "29f708b0-955a-4d9e-cb31-5f10f30fc378"
      },
      "execution_count": null,
      "outputs": [
        {
          "name": "stdout",
          "output_type": "stream",
          "text": [
            "prompt/message : hello\n"
          ]
        },
        {
          "output_type": "execute_result",
          "data": {
            "text/plain": [
              "bool"
            ]
          },
          "metadata": {},
          "execution_count": 9
        }
      ]
    },
    {
      "cell_type": "code",
      "source": [
        "user_input = bool(input(\"I want a false output : \"))\n",
        "user_input"
      ],
      "metadata": {
        "id": "Lqwt2Z8zciYG",
        "colab": {
          "base_uri": "https://localhost:8080/"
        },
        "outputId": "db7fb6fc-db13-4f35-b14c-88170c48ad12"
      },
      "execution_count": null,
      "outputs": [
        {
          "name": "stdout",
          "output_type": "stream",
          "text": [
            "I want a false output : \n"
          ]
        },
        {
          "output_type": "execute_result",
          "data": {
            "text/plain": [
              "False"
            ]
          },
          "metadata": {},
          "execution_count": 14
        }
      ]
    },
    {
      "cell_type": "code",
      "source": [
        "Operators\n",
        "----------------------\n",
        "\n",
        "  -> Arithmatical\n",
        "  -> logical\n",
        "  -> assignment\n",
        "  -> indentical\n",
        "  -> membership"
      ],
      "metadata": {
        "id": "SRTinVrOciVs"
      },
      "execution_count": null,
      "outputs": []
    },
    {
      "cell_type": "code",
      "source": [
        "-> Arithmatical\n",
        "---------------------------\n",
        "\n",
        "  --> +, -, *, / --> float, %\n",
        "  --> // --> floor ---> int\n",
        "  --> ** ---> expontial , power"
      ],
      "metadata": {
        "id": "gbBflwGqciT5"
      },
      "execution_count": null,
      "outputs": []
    },
    {
      "cell_type": "code",
      "source": [
        "a = 5 + 5\n",
        "b = 10\n",
        "c = 2*5\n",
        "d = 100 / 10\n",
        "e = 100 // 10\n",
        "\n",
        "print(id(a))\n",
        "print(id(b))\n",
        "print(id(c))\n",
        "print(id(d))\n",
        "print(id(e))"
      ],
      "metadata": {
        "id": "FwO358ebciRD",
        "colab": {
          "base_uri": "https://localhost:8080/"
        },
        "outputId": "7f3145fb-4deb-4092-8010-be417955cd4c"
      },
      "execution_count": null,
      "outputs": [
        {
          "output_type": "stream",
          "name": "stdout",
          "text": [
            "10751144\n",
            "10751144\n",
            "10751144\n",
            "133467184603696\n",
            "10751144\n"
          ]
        }
      ]
    },
    {
      "cell_type": "code",
      "source": [
        "The programs on basics\n",
        "1. Print given statement\n",
        "2. Declare & print variables\n",
        "3. Find sum of numbers\n",
        "4. Difference of two numbers\n",
        "5. Multiplication of two numbers\n",
        "6. Division of two numbers\n",
        "7. Find last digit of number\n",
        "8. Add two digits of a number\n",
        "9. Sum of 3 digits of a number\n",
        "10. Sum of 4 digits of a number\n",
        "11. Reverse of a 4 digit number\n",
        "12. Swap using third variable\n",
        "13. Swap without third variable\n",
        "14. Average of three numbers\n",
        "15. Find total marks & percentage\n",
        "16. Solve mathematical expressions\n",
        "17. Swap with bitwise operator\n",
        "18. Demonstrate macro definition\n"
      ],
      "metadata": {
        "id": "ctV0P_5xJhqm"
      },
      "execution_count": null,
      "outputs": []
    },
    {
      "cell_type": "code",
      "source": [
        "num // 10  ---> remove last  digit\n",
        "num % 10   ---> return last digit"
      ],
      "metadata": {
        "id": "MZHfAOySJuFs"
      },
      "execution_count": null,
      "outputs": []
    },
    {
      "cell_type": "code",
      "source": [
        "print(1234 // 10)"
      ],
      "metadata": {
        "colab": {
          "base_uri": "https://localhost:8080/"
        },
        "id": "Jo0FLX2lJ1zt",
        "outputId": "163d62eb-edfd-48c3-e2b6-aa69e807f6ec"
      },
      "execution_count": null,
      "outputs": [
        {
          "output_type": "stream",
          "name": "stdout",
          "text": [
            "123\n"
          ]
        }
      ]
    },
    {
      "cell_type": "code",
      "source": [
        "print(1234 % 10)"
      ],
      "metadata": {
        "colab": {
          "base_uri": "https://localhost:8080/"
        },
        "id": "qTeojMGgKDUx",
        "outputId": "36b56574-8b6a-4894-a30d-ba8dd79e0359"
      },
      "execution_count": null,
      "outputs": [
        {
          "output_type": "stream",
          "name": "stdout",
          "text": [
            "4\n"
          ]
        }
      ]
    },
    {
      "cell_type": "code",
      "source": [
        "print(1234 / 10)"
      ],
      "metadata": {
        "colab": {
          "base_uri": "https://localhost:8080/"
        },
        "id": "3hLeGrGCKIgj",
        "outputId": "90bf8cf9-5f94-4ac9-9d0e-a5a5291a9dc3"
      },
      "execution_count": null,
      "outputs": [
        {
          "output_type": "stream",
          "name": "stdout",
          "text": [
            "123.4\n"
          ]
        }
      ]
    },
    {
      "cell_type": "code",
      "source": [
        "7. Find last digit of number\n",
        "8. Add two digits of a number\n",
        "9. Sum of 3 digits of a number\n",
        "10. Sum of 4 digits of a number\n",
        "11. Reverse of a 4 digit number"
      ],
      "metadata": {
        "id": "IZ7QTy2nKNeo"
      },
      "execution_count": null,
      "outputs": []
    },
    {
      "cell_type": "code",
      "source": [
        "7. Find last digit of number\n",
        "\n",
        "Sample input -->  num = 134\n",
        "Expected output --> last digit is : 4\n",
        "\n",
        "Sample input -->  num = 1349\n",
        "Expected output --> last digit is : 9\n",
        "\n",
        "Sample input -->  num = hello\n",
        "Expected output --> last digit is : none"
      ],
      "metadata": {
        "id": "UAuQVkoEKTDc"
      },
      "execution_count": null,
      "outputs": []
    },
    {
      "cell_type": "code",
      "source": [
        "last_digit = int(input(\"Enter any number : \"))\n",
        "print('last digit is : ', last_digit % 10)"
      ],
      "metadata": {
        "colab": {
          "base_uri": "https://localhost:8080/"
        },
        "id": "gf07Y9rYKfCQ",
        "outputId": "5081ed8e-e602-4f97-cbba-8fef1cb6ab05"
      },
      "execution_count": null,
      "outputs": [
        {
          "output_type": "stream",
          "name": "stdout",
          "text": [
            "Enter any number : 189\n",
            "last digit is :  9\n"
          ]
        }
      ]
    },
    {
      "cell_type": "code",
      "source": [
        "9. Sum of last 3 digits of a number\n",
        "-------------------------------------\n",
        "\n",
        "Sample input = num = 123\n",
        "Expected output : 6\n",
        "\n",
        "Sample input = num = 1234\n",
        "Expected output : 9"
      ],
      "metadata": {
        "id": "POFuIZ-yLetY"
      },
      "execution_count": null,
      "outputs": []
    },
    {
      "cell_type": "code",
      "source": [
        "num = int(input(\"Enter any number : \"))\n",
        "\n",
        "# find last digit\n",
        "last_digit = num % 10\n",
        "# remove last digit\n",
        "num = num // 10\n",
        "\n",
        "second_last_digit = num % 10\n",
        "num = num // 10\n",
        "\n",
        "third_last_digit = num % 10\n",
        "\n",
        "print(\"Addition is: \", last_digit + second_last_digit + third_last_digit)"
      ],
      "metadata": {
        "colab": {
          "base_uri": "https://localhost:8080/"
        },
        "id": "Fy-koFcdLuKw",
        "outputId": "2b879130-9d4c-4311-b0ba-bec2048eeff5"
      },
      "execution_count": null,
      "outputs": [
        {
          "output_type": "stream",
          "name": "stdout",
          "text": [
            "Enter any number : 12345987\n",
            "Addition is:  24\n"
          ]
        }
      ]
    },
    {
      "cell_type": "code",
      "source": [
        "11.\n",
        "\n",
        "Sample input -->  num = 1344\n",
        "Expected output --> last digit is : 4431\n",
        "\n",
        "Sample input -->  num = 1349\n",
        "Expected output --> last digit is : 9431\n"
      ],
      "metadata": {
        "id": "4PNW-z_mOGsl"
      },
      "execution_count": null,
      "outputs": []
    },
    {
      "cell_type": "code",
      "source": [
        "num = int(input(\"Enter any number : \"))\n",
        "\n",
        "a = num % 10\n",
        "num = num // 10\n",
        "\n",
        "b = num % 10\n",
        "num = num // 10\n",
        "\n",
        "c = num % 10\n",
        "num = num // 10\n",
        "\n",
        "d = num % 10\n",
        "\n",
        "print(a*1000 + b*100 + c*10 + d)"
      ],
      "metadata": {
        "colab": {
          "base_uri": "https://localhost:8080/"
        },
        "id": "HAFKpEvXQ4zv",
        "outputId": "fce5382d-676e-42df-c7dc-07e364052942"
      },
      "execution_count": null,
      "outputs": [
        {
          "output_type": "stream",
          "name": "stdout",
          "text": [
            "Enter any number : 1234\n",
            "4321\n"
          ]
        }
      ]
    },
    {
      "cell_type": "code",
      "source": [
        "1. Calculate area of circle:\n",
        "• Prompt: Write a program that takes the radius of a circle as input and\n",
        "calculates its area.\n",
        "• Formula: A = πr²"
      ],
      "metadata": {
        "id": "HYfbBSy7Q4xs"
      },
      "execution_count": null,
      "outputs": []
    },
    {
      "cell_type": "code",
      "source": [
        "input : r\n",
        "process = area : πr²\n",
        "output --> area of circle : area"
      ],
      "metadata": {
        "id": "fRPTEMkoQ4v-"
      },
      "execution_count": null,
      "outputs": []
    },
    {
      "cell_type": "code",
      "source": [
        "radius = int(input(\"Enter radius : \"))\n",
        "area = 3.14 * radius ** 2\n",
        "print(\"area of circle : \", area)"
      ],
      "metadata": {
        "colab": {
          "base_uri": "https://localhost:8080/"
        },
        "id": "7Er9H_XlQ4t8",
        "outputId": "1a87ab56-b1ac-4e55-8930-633a88ea3992"
      },
      "execution_count": null,
      "outputs": [
        {
          "output_type": "stream",
          "name": "stdout",
          "text": [
            "Enter radius : 10\n",
            "area of circle :  314.0\n"
          ]
        }
      ]
    },
    {
      "cell_type": "code",
      "source": [
        "radius = int(input(\"Enter radius : \"))\n",
        "print(\"area of circle : \", 3.14 * radius ** 2)"
      ],
      "metadata": {
        "colab": {
          "base_uri": "https://localhost:8080/"
        },
        "id": "GA3Uj5HUQ4qr",
        "outputId": "49d15545-bc7e-4845-dc36-bb398e923f81"
      },
      "execution_count": null,
      "outputs": [
        {
          "output_type": "stream",
          "name": "stdout",
          "text": [
            "Enter radius : 10\n",
            "area of circle :  314.0\n"
          ]
        }
      ]
    },
    {
      "cell_type": "code",
      "source": [
        "print(\"area of circle : \", 3.14 * int(input(\"Enter radius : \")) ** 2)"
      ],
      "metadata": {
        "colab": {
          "base_uri": "https://localhost:8080/"
        },
        "id": "h-Ie5HY1Q4nB",
        "outputId": "c5ce13c0-c7d7-4469-8d3a-f2adf6f0013e"
      },
      "execution_count": null,
      "outputs": [
        {
          "output_type": "stream",
          "name": "stdout",
          "text": [
            "Enter radius : 10\n",
            "area of circle :  314.0\n"
          ]
        }
      ]
    },
    {
      "cell_type": "code",
      "source": [
        "2. Find circumference of circle:\n",
        "• Prompt: Write a program that takes the radius of a circle as input and\n",
        "calculates its circumference.\n",
        "• Formula: C = 2πr\n",
        "3. Calculate area of rectangle:\n",
        "• Prompt: Write a program that takes the length and width of a rectangle as\n",
        "input and calculates its area.\n",
        "• Formula: A = lw\n",
        "4. Calculate volume of sphere:\n",
        "• Prompt: Write a program that takes the radius of a sphere as input and\n",
        "calculates its volume.\n",
        "• Formula: V = (4/3)πr³\n",
        "5. Find surface area of sphere:\n",
        "• Prompt: Write a program that takes the radius of a sphere as input and\n",
        "calculates its surface area.\n",
        "• Formula: SA = 4πr²\n",
        "6. Find area of square:\n",
        "• Prompt: Write a program that takes the side length of a square as input and\n",
        "calculates its area.\n",
        "• Formula: A = s²\n",
        "7. Find area of right angle triangle:\n",
        "• Prompt: Write a program that takes the base and height of a right-angled\n",
        "triangle as input and calculates its area.\n",
        "• Formula: A = (1/2)bh\n",
        "8. Find area of equilateral triangle:\n",
        "• Prompt: Write a program that takes the side length of an equilateral triangle\n",
        "as input and calculates its area.\n",
        "• Formula: A = (√3/4)s²\n",
        "9. Find perimeter of rectangle:\n",
        "• Prompt: Write a program that takes the length and width of a rectangle as\n",
        "input and calculates its perimeter.\n",
        "• Formula: P = 2l + 2w\n",
        "10. Find area of triangle:\n",
        "• Prompt: Write a program that takes the base and height of a triangle (any\n",
        "triangle) as input and calculates its area.\n",
        "• Formula: A = (1/2)bh\n",
        "11. Find simple interest:\n",
        "• Prompt: Write a program that takes the principal amount, interest rate, and\n",
        "time period as input and calculates the simple interest.\n",
        "• Formula: SI = P * R * T\n",
        "12. Find compound interest:\n",
        "• Prompt: Write a program that takes the principal amount, interest\n",
        "rate, compounding frequency, and time period as input and calculates the"
      ],
      "metadata": {
        "id": "7zk_08gQQ4iu"
      },
      "execution_count": null,
      "outputs": []
    },
    {
      "cell_type": "code",
      "source": [
        "2. Find circumference of circle:\n",
        "• Prompt: Write a program that takes the radius of a circle as input and\n",
        "calculates its circumference."
      ],
      "metadata": {
        "id": "9lJoZd1VQ4fw"
      },
      "execution_count": null,
      "outputs": []
    },
    {
      "cell_type": "code",
      "source": [
        "take input from user\n",
        "\n",
        "Sample Input    : total-price = 1000, discount = 20\n",
        "Expected output :\n",
        "\n",
        "Price    : 1000\n",
        "Discount : 20\n",
        "---------------------\n",
        "Total Amount : 800.0"
      ],
      "metadata": {
        "id": "tblbJPRqQ4db"
      },
      "execution_count": null,
      "outputs": []
    },
    {
      "cell_type": "code",
      "source": [
        "total_price = int(input(\"Enter Total price : \"))\n",
        "discount = int(input(\"ENter discount : \"))\n",
        "\n",
        "print('Price    : ', total_price)\n",
        "print('Discount :', discount)\n",
        "print('---------------------')\n",
        "print('Total Amount :', total_price - (total_price * discount / 100))"
      ],
      "metadata": {
        "colab": {
          "base_uri": "https://localhost:8080/"
        },
        "id": "ur7_XhKYQ4bD",
        "outputId": "057160c0-ebca-4b1e-ccb9-3b252caed6c3"
      },
      "execution_count": null,
      "outputs": [
        {
          "output_type": "stream",
          "name": "stdout",
          "text": [
            "Enter Total price : 1000\n",
            "ENter discount : 20\n",
            "Price    :  1000\n",
            "Discount : 20\n",
            "---------------------\n",
            "Total Amount : 800.0\n"
          ]
        }
      ]
    },
    {
      "cell_type": "code",
      "source": [
        "Coonditions\n",
        "-----------------\n",
        "\n",
        "  -> if\n",
        "  -> if-else\n",
        "  -> if\n",
        "        if\n",
        "        else\n",
        "  -> if\n",
        "        if\n",
        "\n",
        "          if\n",
        "          else\n",
        "      else\n",
        "\n",
        "    ->if\n",
        "      elif\n",
        "        if\n",
        "        else\n",
        "      elif\n",
        "      else\n",
        "\n",
        "\n",
        "\n",
        "Syntax\n",
        "---------------\n",
        "\n",
        "if condition (bool):  assignment, membership, indentical\n",
        "  # at least one statement / pass, break, continue"
      ],
      "metadata": {
        "id": "gF7bZrbWQ4ZG"
      },
      "execution_count": null,
      "outputs": []
    },
    {
      "cell_type": "code",
      "source": [
        "clock = int(input(\"Enter Time :\"))\n",
        "\n",
        "if clock == 10:\n",
        "  print(\"Temple...\")\n",
        "\n",
        "if clock == 3:\n",
        "  print(\"Movie...\")\n",
        "\n",
        "if clock == 6:\n",
        "  print(\"Party...\")"
      ],
      "metadata": {
        "colab": {
          "base_uri": "https://localhost:8080/"
        },
        "id": "gr2s8BPDQ4WN",
        "outputId": "be8eff60-3444-4d77-ac49-46f6b44365cf"
      },
      "execution_count": null,
      "outputs": [
        {
          "output_type": "stream",
          "name": "stdout",
          "text": [
            "Enter Time :10\n",
            "Temple...\n"
          ]
        }
      ]
    },
    {
      "cell_type": "code",
      "source": [
        "clock = int(input(\"Enter Time :\"))\n",
        "\n",
        "if clock == 10:\n",
        "  print(\"Temple...\")\n",
        "\n",
        "elif clock == 3:\n",
        "  print(\"Movie...\")\n",
        "\n",
        "elif clock == 6:\n",
        "  print(\"Party...\")"
      ],
      "metadata": {
        "colab": {
          "base_uri": "https://localhost:8080/"
        },
        "id": "Dh9Oo9s_Q4TN",
        "outputId": "1fed08d6-c734-4e6a-bbe9-485f6b781d2c"
      },
      "execution_count": null,
      "outputs": [
        {
          "output_type": "stream",
          "name": "stdout",
          "text": [
            "Enter Time :3\n",
            "Movie...\n"
          ]
        }
      ]
    },
    {
      "cell_type": "code",
      "source": [
        "if 10 = 20:\n",
        "  print(\"done\")"
      ],
      "metadata": {
        "colab": {
          "base_uri": "https://localhost:8080/",
          "height": 106
        },
        "id": "nC9eys4dQ4Q0",
        "outputId": "71cfb6a6-455e-47c0-92d6-bb0f9167ab8e"
      },
      "execution_count": null,
      "outputs": [
        {
          "output_type": "error",
          "ename": "SyntaxError",
          "evalue": "cannot assign to literal here. Maybe you meant '==' instead of '='? (<ipython-input-44-0c15cc042b4a>, line 1)",
          "traceback": [
            "\u001b[0;36m  File \u001b[0;32m\"<ipython-input-44-0c15cc042b4a>\"\u001b[0;36m, line \u001b[0;32m1\u001b[0m\n\u001b[0;31m    if 10 = 20:\u001b[0m\n\u001b[0m       ^\u001b[0m\n\u001b[0;31mSyntaxError\u001b[0m\u001b[0;31m:\u001b[0m cannot assign to literal here. Maybe you meant '==' instead of '='?\n"
          ]
        }
      ]
    },
    {
      "cell_type": "code",
      "source": [
        "num = 10\n",
        "  if 10 > 2:\n",
        "    print(\"done\")"
      ],
      "metadata": {
        "colab": {
          "base_uri": "https://localhost:8080/",
          "height": 106
        },
        "id": "OuZ1ZjQ7Q4OU",
        "outputId": "02ae9a81-68e7-4f60-84a6-90e41deb6aa4"
      },
      "execution_count": null,
      "outputs": [
        {
          "output_type": "error",
          "ename": "IndentationError",
          "evalue": "unexpected indent (<ipython-input-46-62473983a797>, line 2)",
          "traceback": [
            "\u001b[0;36m  File \u001b[0;32m\"<ipython-input-46-62473983a797>\"\u001b[0;36m, line \u001b[0;32m2\u001b[0m\n\u001b[0;31m    if 10 > 2:\u001b[0m\n\u001b[0m    ^\u001b[0m\n\u001b[0;31mIndentationError\u001b[0m\u001b[0;31m:\u001b[0m unexpected indent\n"
          ]
        }
      ]
    },
    {
      "cell_type": "code",
      "source": [
        "if 10 > 2:\n",
        "  print(\"done\")"
      ],
      "metadata": {
        "colab": {
          "base_uri": "https://localhost:8080/"
        },
        "id": "DN_S-Ro9Q4L-",
        "outputId": "b6df79ca-8aa3-41db-e5eb-1571ee1c0d56"
      },
      "execution_count": null,
      "outputs": [
        {
          "output_type": "stream",
          "name": "stdout",
          "text": [
            "done\n"
          ]
        }
      ]
    },
    {
      "cell_type": "code",
      "source": [
        ". Check number is less than 10\n",
        "\n",
        "Sample test case : num = 10\n",
        "Expected output  : given number is 10\n",
        "\n",
        "Sample test case : num = 11\n",
        "Expected output  : 11 is greater than 10\n",
        "\n",
        "Sample test case :\n",
        "Expected output  : 1 is less than 10"
      ],
      "metadata": {
        "id": "wdLbROWiQ4JR"
      },
      "execution_count": null,
      "outputs": []
    },
    {
      "cell_type": "code",
      "source": [
        "num = int(input(\"ENter number : \"))\n",
        "\n",
        "if num > 10:\n",
        "  print(num, \"is greater than 10\")\n",
        "elif num == 10:\n",
        "  print(\"Given number is 10\")\n",
        "else:\n",
        "  print(num, \"is less than 10\")"
      ],
      "metadata": {
        "colab": {
          "base_uri": "https://localhost:8080/"
        },
        "id": "hNccpwL7dcG3",
        "outputId": "b357e4be-f723-4bd6-b017-107411de998a"
      },
      "execution_count": null,
      "outputs": [
        {
          "output_type": "stream",
          "name": "stdout",
          "text": [
            "ENter number : 11\n",
            "11 is greater than 10\n"
          ]
        }
      ]
    },
    {
      "cell_type": "code",
      "source": [
        "3. Check voting eligibility\n",
        "4. Check if number is even or odd"
      ],
      "metadata": {
        "id": "C7APYnpVek3l"
      },
      "execution_count": null,
      "outputs": []
    },
    {
      "cell_type": "code",
      "source": [
        "# 3. Check voting eligibility\n",
        "\n",
        "age = int(input(\"ENter age : \"))\n",
        "\n",
        "if age > 18:\n",
        "  print(\"Congrats...You are eligible\")\n",
        "elif age == 0:\n",
        "  print(\"your age is too less\")\n",
        "else:\n",
        "  print(\"Sorry...But You are not eligible now\")"
      ],
      "metadata": {
        "colab": {
          "base_uri": "https://localhost:8080/"
        },
        "id": "0ojFYUnsevCq",
        "outputId": "228de804-82e0-4a79-ef6c-310ba68e8527"
      },
      "execution_count": null,
      "outputs": [
        {
          "output_type": "stream",
          "name": "stdout",
          "text": [
            "ENter age : 20\n",
            "Congrats...You are eligible\n"
          ]
        }
      ]
    },
    {
      "cell_type": "code",
      "source": [
        "# 4. Check if number is even or odd\n",
        "\n",
        "num = int(input())\n",
        "\n",
        "if num % 2 == 0:\n",
        "  print(num, \"is even\")\n",
        "else:\n",
        "  print(num, \"is odd\")"
      ],
      "metadata": {
        "colab": {
          "base_uri": "https://localhost:8080/"
        },
        "id": "Kb7loV3xgLvP",
        "outputId": "26ee51e8-6a1e-458c-d470-094e49851a0e"
      },
      "execution_count": null,
      "outputs": [
        {
          "output_type": "stream",
          "name": "stdout",
          "text": [
            "10\n",
            "10 is even\n"
          ]
        }
      ]
    },
    {
      "cell_type": "code",
      "source": [
        "Logical Operators\n",
        "-----------------------\n",
        "  1. and\n",
        "  2. or\n",
        "  3. not\n",
        "\n",
        "\n",
        "True and True ---> True\n",
        "False or False ---> False"
      ],
      "metadata": {
        "id": "lwvpiYD_g7Xv"
      },
      "execution_count": null,
      "outputs": []
    },
    {
      "cell_type": "code",
      "source": [
        "print(10 and 20 and 30)"
      ],
      "metadata": {
        "colab": {
          "base_uri": "https://localhost:8080/"
        },
        "id": "ogLeeWsnhwdS",
        "outputId": "455a0db6-4f81-4d73-acc5-26e408530362"
      },
      "execution_count": null,
      "outputs": [
        {
          "output_type": "stream",
          "name": "stdout",
          "text": [
            "30\n"
          ]
        }
      ]
    },
    {
      "cell_type": "code",
      "source": [
        "print(10 or 20)"
      ],
      "metadata": {
        "colab": {
          "base_uri": "https://localhost:8080/"
        },
        "id": "SYmmpLDOh5_P",
        "outputId": "9992bc01-24c4-48d1-d59f-219483d36076"
      },
      "execution_count": null,
      "outputs": [
        {
          "output_type": "stream",
          "name": "stdout",
          "text": [
            "10\n"
          ]
        }
      ]
    },
    {
      "cell_type": "code",
      "source": [
        "print(10 and 10)"
      ],
      "metadata": {
        "colab": {
          "base_uri": "https://localhost:8080/"
        },
        "id": "IcdgLPLRiWQd",
        "outputId": "45448ca3-a7c6-426f-d77d-d0706fd4d616"
      },
      "execution_count": null,
      "outputs": [
        {
          "output_type": "stream",
          "name": "stdout",
          "text": [
            "10\n"
          ]
        }
      ]
    },
    {
      "cell_type": "code",
      "source": [
        "if 10 and 20:\n",
        "  print(\"Done\")\n",
        "else:\n",
        "  print(\"wrong\")"
      ],
      "metadata": {
        "colab": {
          "base_uri": "https://localhost:8080/"
        },
        "id": "7jlrVom3ictp",
        "outputId": "b4d753dc-564e-4993-bef1-48c28976ea57"
      },
      "execution_count": null,
      "outputs": [
        {
          "output_type": "stream",
          "name": "stdout",
          "text": [
            "Done\n"
          ]
        }
      ]
    },
    {
      "cell_type": "code",
      "source": [
        "if 10 > 2 and 20 > 10 and 20 == 20 or 10 < 100:\n",
        "  print(\"done\")"
      ],
      "metadata": {
        "colab": {
          "base_uri": "https://localhost:8080/"
        },
        "id": "IFErBrC2iy1g",
        "outputId": "e775a2e5-c1ad-4f7e-e166-ae1a1a4dd883"
      },
      "execution_count": null,
      "outputs": [
        {
          "output_type": "stream",
          "name": "stdout",
          "text": [
            "done\n"
          ]
        }
      ]
    },
    {
      "cell_type": "code",
      "source": [
        "take a input from user to check the given number is perfectly\n",
        "divisible by 3 and 5\n",
        "\n",
        "Sample test case : num = 15\n",
        "expected output  : 15 is accepted\n",
        "\n",
        "Sample test case : num = 20\n",
        "expected output  : 20 is rejected\n"
      ],
      "metadata": {
        "id": "TvXkQezvjdos"
      },
      "execution_count": null,
      "outputs": []
    },
    {
      "cell_type": "code",
      "source": [
        "# and ---> when all is needed\n",
        "# or  ---> when any one is needed\n",
        "\n",
        "num = int(input())\n",
        "\n",
        "if num % 3 == 0 and num % 5 == 0:\n",
        "  print(num, \" is accepted\")\n",
        "else:\n",
        "  print(num, \" is rejected\")"
      ],
      "metadata": {
        "colab": {
          "base_uri": "https://localhost:8080/"
        },
        "id": "KIoedKfGkq0K",
        "outputId": "2270d3f1-9907-4dee-f057-f1410aed255c"
      },
      "execution_count": null,
      "outputs": [
        {
          "output_type": "stream",
          "name": "stdout",
          "text": [
            "20\n",
            "20  is rejected\n"
          ]
        }
      ]
    },
    {
      "cell_type": "code",
      "source": [
        "take a input from user to check the given number is perfectly\n",
        "divisible by 3 and 5 but not 2\n",
        "\n",
        "Sample test case : num = 15\n",
        "expected output  : 15 is accepted\n",
        "\n",
        "Sample test case : num = 7\n",
        "expected output  : 7 is rejected\n"
      ],
      "metadata": {
        "id": "9YmPIK-Jk9pW"
      },
      "execution_count": null,
      "outputs": []
    },
    {
      "cell_type": "code",
      "source": [
        "take a input from user to calculate the percentage\n",
        "\n",
        "Sample test case : total_marks = 500\n",
        "expected output  : Percentage : 100.0\n",
        "\n",
        "Sample test case : total_marks = 100\n",
        "expected output  : Percentage : 20.0"
      ],
      "metadata": {
        "id": "tUc71kQzlVfs"
      },
      "execution_count": null,
      "outputs": []
    },
    {
      "cell_type": "code",
      "source": [],
      "metadata": {
        "id": "X23MjgJblVdH"
      },
      "execution_count": null,
      "outputs": []
    },
    {
      "cell_type": "code",
      "source": [
        "5. Enter three angles & check if it is a triangle\n",
        "6. Find total marks & percentage\n",
        "7. Check for leap year\n",
        "8. Check number is +ve, -ve or zero\n",
        "9. Largest amongst three numbers\n",
        "10. Print grade of employee\n",
        "11. Print Color Name\n",
        "12. Print gross salary of employee\n",
        "13. Print division scored by student\n",
        "14. Find greatest among 3 numbers\n",
        "15. Check if student scored distinction\n",
        "16. Check type of triangle\n",
        "17. Check sum of digit greater than 10\n",
        "18. Print single digit number in words\n",
        "19. Print numbers in words\n",
        "20. Read a day of week in digit\n",
        "21. Perform arithmetic operations\n",
        "22. Check alphabet is vowel or consonant\n",
        "23. Check number is even or odd"
      ],
      "metadata": {
        "id": "kYKY9H9wlVaV"
      },
      "execution_count": null,
      "outputs": []
    },
    {
      "cell_type": "code",
      "source": [
        "# Switch off / on\n",
        "\n",
        "user_input = input(\"Enter : (y/n)\")\n",
        "\n",
        "if user_input == 'y':\n",
        "  print(\"Switch On\")\n",
        "elif user_input == 'n':\n",
        "  print(\"Switch OFF\")\n",
        "else:\n",
        "  print(\"Please provide a correct input\")"
      ],
      "metadata": {
        "colab": {
          "base_uri": "https://localhost:8080/"
        },
        "id": "Iq_XDWwSlVYF",
        "outputId": "a0271be8-7216-4bd2-80a8-fc076eb08ac8"
      },
      "execution_count": null,
      "outputs": [
        {
          "output_type": "stream",
          "name": "stdout",
          "text": [
            "Enter : (y/n)g\n",
            "Please provide a correct input\n"
          ]
        }
      ]
    },
    {
      "cell_type": "code",
      "source": [
        "\n",
        "60 < percentage >= 40 = Percentage : ? class : Pass\n",
        "80 < percentage >= 60 = Percentage : ? class : First\n",
        "100 =< percentage >= 80 = Percentage : ? class : Merit"
      ],
      "metadata": {
        "id": "VglfvBa1lVVq"
      },
      "execution_count": null,
      "outputs": []
    },
    {
      "cell_type": "code",
      "source": [],
      "metadata": {
        "id": "8BH_iLhxlVTZ"
      },
      "execution_count": null,
      "outputs": []
    },
    {
      "cell_type": "code",
      "source": [],
      "metadata": {
        "id": "c9nJTPyKlVQ-"
      },
      "execution_count": null,
      "outputs": []
    },
    {
      "cell_type": "code",
      "source": [],
      "metadata": {
        "id": "E9g69KWslVOc"
      },
      "execution_count": null,
      "outputs": []
    }
  ]
}