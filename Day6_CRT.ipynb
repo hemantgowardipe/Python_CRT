{
  "nbformat": 4,
  "nbformat_minor": 0,
  "metadata": {
    "colab": {
      "provenance": [],
      "authorship_tag": "ABX9TyOMwdgpY2Q8VOxMBBMIsIva",
      "include_colab_link": true
    },
    "kernelspec": {
      "name": "python3",
      "display_name": "Python 3"
    },
    "language_info": {
      "name": "python"
    }
  },
  "cells": [
    {
      "cell_type": "markdown",
      "metadata": {
        "id": "view-in-github",
        "colab_type": "text"
      },
      "source": [
        "<a href=\"https://colab.research.google.com/github/hemantgowardipe/Python_CRT/blob/main/Day6_CRT.ipynb\" target=\"_parent\"><img src=\"https://colab.research.google.com/assets/colab-badge.svg\" alt=\"Open In Colab\"/></a>"
      ]
    },
    {
      "cell_type": "code",
      "execution_count": null,
      "metadata": {
        "id": "G7yVFWZGUsTx"
      },
      "outputs": [],
      "source": [
        "'''Function\n",
        "----------------------------\n",
        "\n",
        "  -> Pre-define / In-builld\n",
        "  -> User define'''"
      ]
    },
    {
      "cell_type": "code",
      "source": [
        "'''\n",
        "  -> public\n",
        "  -> private\n",
        "  -> protected\n",
        "  -> default'''"
      ],
      "metadata": {
        "id": "gGnr8f06VCSa"
      },
      "execution_count": null,
      "outputs": []
    },
    {
      "cell_type": "code",
      "source": [
        "# prompt: Write a code which explains python functions with their types\n",
        "\n",
        "# In Python, functions are first-class objects.\n",
        "# This means they can be assigned to variables, passed as arguments to other functions, and returned as values from other functions.\n",
        "\n",
        "# Function Types based on Definition:\n",
        "\n",
        "# 1. Pre-defined / In-built functions:\n",
        "# These are functions that are already available in Python's standard library.\n",
        "# You can use them directly without defining them.\n",
        "print(\"This is a pre-defined function example using print()\")\n",
        "list_of_numbers = [1, 2, 3, 4, 5]\n",
        "print(\"Length of the list:\", len(list_of_numbers))\n",
        "print(\"Maximum value in the list:\", max(list_of_numbers))\n",
        "\n",
        "# 2. User-defined functions:\n",
        "# These are functions that you define yourself to perform specific tasks.\n",
        "# They are created using the `def` keyword.\n",
        "\n",
        "def greet(name):\n",
        "  \"\"\"This is a simple user-defined function to greet a person.\"\"\"\n",
        "  print(f\"Hello, {name}!\")\n",
        "\n",
        "# Calling the user-defined function\n",
        "greet(\"Alice\")\n",
        "\n",
        "# Function Types based on Accessibility/Visibility (in the context of classes, but sometimes loosely applied to modules):\n",
        "\n",
        "# While Python doesn't have strict keywords for public, private, and protected\n",
        "# like some other languages (e.g., Java, C++), there are conventions to indicate\n",
        "# the intended accessibility of functions (especially within classes).\n",
        "\n",
        "# 1. Public functions:\n",
        "# These are functions that are intended to be accessible from anywhere.\n",
        "# In Python, all functions are public by default unless you use name mangling\n",
        "# or follow conventions.\n",
        "# User-defined functions without leading underscores are considered public.\n",
        "def public_function():\n",
        "  print(\"This is a public function.\")\n",
        "\n",
        "public_function()\n",
        "\n",
        "# 2. Private functions (by convention/name mangling):\n",
        "# Functions intended for internal use within a class or module.\n",
        "# By convention, a function name prefixed with a single underscore `_`\n",
        "# indicates it's intended to be private and should not be accessed directly\n",
        "# from outside the module/class.\n",
        "# Functions with double underscores `__` at the beginning (and not at the end)\n",
        "# are subject to name mangling, making them harder to access from outside the class.\n",
        "\n",
        "def _private_function_convention():\n",
        "  print(\"This function is intended to be private (convention).\")\n",
        "\n",
        "class MyClass:\n",
        "  def __private_method_mangling(self):\n",
        "    print(\"This is a private method (name mangling).\")\n",
        "\n",
        "  def public_method(self):\n",
        "    print(\"This is a public method.\")\n",
        "    self.__private_method_mangling() # Can be called from within the class\n",
        "\n",
        "# Accessing a convention-based \"private\" function (still accessible, just a convention)\n",
        "_private_function_convention()\n",
        "\n",
        "# Accessing a name-mangled \"private\" method (harder to access directly)\n",
        "# my_object = MyClass()\n",
        "# my_object.__private_method_mangling() # This will raise an AttributeError\n",
        "\n",
        "# 3. Protected functions (by convention):\n",
        "# Functions intended for internal use within a class and its subclasses.\n",
        "# By convention, a function name prefixed with a single underscore `_`\n",
        "# is also used to indicate a protected function. Python doesn't have a\n",
        "# distinct mechanism for protected compared to private by convention.\n",
        "\n",
        "# There's no distinct \"protected\" access level enforced by Python keywords.\n",
        "# The single underscore convention `_` is often used for both private and protected intentions.\n",
        "\n",
        "# 4. Default functions:\n",
        "# In some languages, the absence of an access modifier implies a default\n",
        "# access level (often package-private). In Python, the concept of \"default\"\n",
        "# accessibility is essentially public unless you use the underscore conventions.\n",
        "# Functions without any leading underscores are effectively \"default\" in that\n",
        "# they are publicly accessible.\n",
        "\n",
        "def default_access_function():\n",
        "  print(\"This function has 'default' (public) access.\")\n",
        "\n",
        "default_access_function()\n",
        "\n",
        "# Summary of Accessibility Conventions in Python:\n",
        "# - No leading underscore: Public (accessible from anywhere)\n",
        "# - Single leading underscore (`_`): Convention for private/protected (intended for internal use)\n",
        "# - Double leading underscores (`__`): Name mangling (makes it harder to access from outside the class)"
      ],
      "metadata": {
        "colab": {
          "base_uri": "https://localhost:8080/"
        },
        "id": "YIceVtfgZuvI",
        "outputId": "a5a01ccd-79c2-4a68-af2d-aa773b4a98fe"
      },
      "execution_count": null,
      "outputs": [
        {
          "output_type": "stream",
          "name": "stdout",
          "text": [
            "This is a pre-defined function example using print()\n",
            "Length of the list: 5\n",
            "Maximum value in the list: 5\n",
            "Hello, Alice!\n",
            "This is a public function.\n",
            "This function is intended to be private (convention).\n",
            "This function has 'default' (public) access.\n"
          ]
        }
      ]
    },
    {
      "cell_type": "code",
      "source": [
        "# prompt: Write a professional code to learn what default are and how default arguements work\n",
        "\n",
        "# Learning about Default Arguments in Functions\n",
        "\n",
        "# Default arguments allow you to provide a default value for a function parameter.\n",
        "# If a caller does not provide a value for that parameter, the default value is used.\n",
        "# This makes function calls more flexible and can simplify their usage.\n",
        "\n",
        "# Defining a function with a default argument\n",
        "def greet_with_default(name=\"Guest\"):\n",
        "  \"\"\"\n",
        "  Greets a person with an optional name.\n",
        "  If no name is provided, it greets 'Guest'.\n",
        "  \"\"\"\n",
        "  print(f\"Hello, {name}!\")\n",
        "\n",
        "# Calling the function without providing a value for the default argument\n",
        "print(\"\\nCalling greet_with_default without an argument:\")\n",
        "greet_with_default() # Output: Hello, Guest!\n",
        "\n",
        "# Calling the function and providing a value for the argument\n",
        "print(\"Calling greet_with_default with an argument:\")\n",
        "greet_with_default(\"Charlie\") # Output: Hello, Charlie!\n",
        "\n",
        "# Multiple default arguments\n",
        "def send_message(message, sender=\"Anonymous\", recipient=\"All\"):\n",
        "  \"\"\"\n",
        "  Sends a message with optional sender and recipient.\n",
        "  \"\"\"\n",
        "  print(f\"Message from {sender} to {recipient}: '{message}'\")\n",
        "\n",
        "# Calling with only the required argument\n",
        "print(\"\\nCalling send_message with only the required argument:\")\n",
        "send_message(\"Meeting at 3 PM\") # Output: Message from Anonymous to All: 'Meeting at 3 PM'\n",
        "\n",
        "# Calling with required and one optional argument\n",
        "print(\"Calling send_message with required and one optional argument:\")\n",
        "send_message(\"Project update\", sender=\"David\") # Output: Message from David to All: 'Project update'\n",
        "\n",
        "# Calling with all arguments\n",
        "print(\"Calling send_message with all arguments:\")\n",
        "send_message(\"Final review\", sender=\"Eve\", recipient=\"Team Alpha\") # Output: Message from Eve to Team Alpha: 'Final review'\n",
        "\n",
        "# Order of arguments:\n",
        "# Non-default arguments must come before default arguments in the function definition.\n",
        "# This is important for the Python interpreter to correctly match arguments.\n",
        "\n",
        "# Example of incorrect order (will raise a SyntaxError)\n",
        "# def incorrect_order(default_arg=\"default\", required_arg):\n",
        "#   pass\n",
        "\n",
        "# Example of correct order\n",
        "def correct_order(required_arg, default_arg=\"default\"):\n",
        "  \"\"\"\n",
        "  Function demonstrating correct order of required and default arguments.\n",
        "  \"\"\"\n",
        "  print(f\"Required: {required_arg}, Default: {default_arg}\")\n",
        "\n",
        "print(\"\\nCalling correct_order:\")\n",
        "correct_order(\"Must provide\") # Output: Required: Must provide, Default: default\n",
        "correct_order(\"Must provide\", \"Custom default\") # Output: Required: Must provide, Default: Custom default\n",
        "\n",
        "# Important Consideration: Mutable Default Arguments\n",
        "# Be cautious when using mutable objects (like lists or dictionaries) as default arguments.\n",
        "# The default value is created only once when the function is defined.\n",
        "# If you modify the mutable default argument inside the function, the change will persist across subsequent calls.\n",
        "\n",
        "def add_to_list(item, item_list=[]): # This is generally NOT recommended\n",
        "  \"\"\"\n",
        "  Adds an item to a list.\n",
        "  Uses a mutable list as a default argument (be careful!).\n",
        "  \"\"\"\n",
        "  item_list.append(item)\n",
        "  print(\"Current list:\", item_list)\n",
        "  print(\"List id:\", id(item_list)) # Demonstrate that the list object is the same\n",
        "\n",
        "print(\"\\nDemonstrating mutable default argument issue:\")\n",
        "print(\"First call to add_to_list:\")\n",
        "add_to_list(\"apple\") # Output: Current list: ['apple']\n",
        "\n",
        "print(\"Second call to add_to_list:\")\n",
        "add_to_list(\"banana\") # Output: Current list: ['apple', 'banana'] - the list from the first call was modified!\n",
        "\n",
        "# Recommended way to handle mutable default arguments: Use `None` as the default\n",
        "def add_to_list_correct(item, item_list=None):\n",
        "  \"\"\"\n",
        "  Adds an item to a list, correctly handling mutable default argument.\n",
        "  \"\"\"\n",
        "  if item_list is None:\n",
        "    item_list = [] # Create a new list only if one is not provided\n",
        "  item_list.append(item)\n",
        "  print(\"Current list:\", item_list)\n",
        "  print(\"List id:\", id(item_list)) # Demonstrate that a new list might be created\n",
        "\n",
        "print(\"\\nDemonstrating correct handling of mutable default argument:\")\n",
        "print(\"First call to add_to_list_correct:\")\n",
        "add_to_list_correct(\"apple\") # Output: Current list: ['apple']\n",
        "\n",
        "print(\"Second call to add_to_list_correct:\")\n",
        "add_to_list_correct(\"banana\") # Output: Current list: ['banana'] - a new list was created!\n",
        "\n",
        "print(\"Third call to add_to_list_correct with an explicit list:\")\n",
        "my_own_list = [\"grape\"]\n",
        "add_to_list_correct(\"cherry\", my_own_list) # Output: Current list: ['grape', 'cherry']\n",
        "print(\"My original list:\", my_own_list) # Output: My original list: ['grape', 'cherry'] - the explicit list was modified\n",
        "\n",
        "# In summary, default arguments provide flexibility by allowing parameters to be optional.\n",
        "# However, always define non-default arguments before default arguments, and be\n",
        "# mindful of mutable default arguments, preferring `None` as the default and\n",
        "# creating a new mutable object inside the function if needed.\n"
      ],
      "metadata": {
        "colab": {
          "base_uri": "https://localhost:8080/"
        },
        "id": "inDd4QVxaD8D",
        "outputId": "70e72e66-7bf2-41bc-d494-c6d085902861"
      },
      "execution_count": null,
      "outputs": [
        {
          "output_type": "stream",
          "name": "stdout",
          "text": [
            "\n",
            "Calling greet_with_default without an argument:\n",
            "Hello, Guest!\n",
            "Calling greet_with_default with an argument:\n",
            "Hello, Charlie!\n",
            "\n",
            "Calling send_message with only the required argument:\n",
            "Message from Anonymous to All: 'Meeting at 3 PM'\n",
            "Calling send_message with required and one optional argument:\n",
            "Message from David to All: 'Project update'\n",
            "Calling send_message with all arguments:\n",
            "Message from Eve to Team Alpha: 'Final review'\n",
            "\n",
            "Calling correct_order:\n",
            "Required: Must provide, Default: default\n",
            "Required: Must provide, Default: Custom default\n",
            "\n",
            "Demonstrating mutable default argument issue:\n",
            "First call to add_to_list:\n",
            "Current list: ['apple']\n",
            "List id: 136361918611136\n",
            "Second call to add_to_list:\n",
            "Current list: ['apple', 'banana']\n",
            "List id: 136361918611136\n",
            "\n",
            "Demonstrating correct handling of mutable default argument:\n",
            "First call to add_to_list_correct:\n",
            "Current list: ['apple']\n",
            "List id: 136362811293632\n",
            "Second call to add_to_list_correct:\n",
            "Current list: ['banana']\n",
            "List id: 136362936302272\n",
            "Third call to add_to_list_correct with an explicit list:\n",
            "Current list: ['grape', 'cherry']\n",
            "List id: 136362811293632\n",
            "My original list: ['grape', 'cherry']\n"
          ]
        }
      ]
    },
    {
      "cell_type": "code",
      "source": [
        "# prompt: Write a professional code to learn what default arguements are and how default arguements work in simple code\n",
        "\n",
        "# Learning about Default Arguments in Functions\n",
        "\n",
        "# Default arguments allow you to provide a default value for a function parameter.\n",
        "# If a caller does not provide a value for that parameter, the default value is used.\n",
        "# This makes function calls more flexible and can simplify their usage.\n",
        "\n",
        "# Defining a function with a default argument\n",
        "def greet_with_default(name=\"Guest\"):\n",
        "  \"\"\"\n",
        "  Greets a person with an optional name.\n",
        "  If no name is provided, it greets 'Guest'.\n",
        "  \"\"\"\n",
        "  print(f\"Hello, {name}!\")\n",
        "\n",
        "# Calling the function without providing a value for the default argument\n",
        "print(\"\\nCalling greet_with_default without an argument:\")\n",
        "greet_with_default() # Output: Hello, Guest!\n",
        "\n",
        "# Calling the function and providing a value for the argument\n",
        "print(\"Calling greet_with_default with an argument:\")\n",
        "greet_with_default(\"Charlie\") # Output: Hello, Charlie!\n",
        "\n",
        "# Multiple default arguments\n",
        "def send_message(message, sender=\"Anonymous\", recipient=\"All\"):\n",
        "  \"\"\"\n",
        "  Sends a message with optional sender and recipient.\n",
        "  \"\"\"\n",
        "  print(f\"Message from {sender} to {recipient}: '{message}'\")\n",
        "\n",
        "# Calling with only the required argument\n",
        "print(\"\\nCalling send_message with only the required argument:\")\n",
        "send_message(\"Meeting at 3 PM\") # Output: Message from Anonymous to All: 'Meeting at 3 PM'\n",
        "\n",
        "# Calling with required and one optional argument\n",
        "print(\"Calling send_message with required and one optional argument:\")\n",
        "send_message(\"Project update\", sender=\"David\") # Output: Message from David to All: 'Project update'\n",
        "\n",
        "# Calling with all arguments\n",
        "print(\"Calling send_message with all arguments:\")\n",
        "send_message(\"Final review\", sender=\"Eve\", recipient=\"Team Alpha\") # Output: Message from Eve to Team Alpha: 'Final review'\n",
        "\n",
        "# Order of arguments:\n",
        "# Non-default arguments must come before default arguments in the function definition.\n",
        "# This is important for the Python interpreter to correctly match arguments.\n",
        "\n",
        "# Example of incorrect order (will raise a SyntaxError if uncommented)\n",
        "# def incorrect_order(default_arg=\"default\", required_arg):\n",
        "#   pass\n",
        "\n",
        "# Example of correct order\n",
        "def correct_order(required_arg, default_arg=\"default\"):\n",
        "  \"\"\"\n",
        "  Function demonstrating correct order of required and default arguments.\n",
        "  \"\"\"\n",
        "  print(f\"Required: {required_arg}, Default: {default_arg}\")\n",
        "\n",
        "print(\"\\nCalling correct_order:\")\n",
        "correct_order(\"Must provide\") # Output: Required: Must provide, Default: default\n",
        "correct_order(\"Must provide\", \"Custom default\") # Output: Required: Must provide, Default: Custom default\n",
        "\n",
        "# Important Consideration: Mutable Default Arguments\n",
        "# Be cautious when using mutable objects (like lists or dictionaries) as default arguments.\n",
        "# The default value is created only once when the function is defined.\n",
        "# If you modify the mutable default argument inside the function, the change will persist across subsequent calls.\n",
        "\n",
        "def add_to_list_mutable_default(item, item_list=[]): # This is generally NOT recommended\n",
        "  \"\"\"\n",
        "  Adds an item to a list.\n",
        "  Uses a mutable list as a default argument (be careful!).\n",
        "  \"\"\"\n",
        "  item_list.append(item)\n",
        "  print(\"Current list:\", item_list)\n",
        "  print(\"List id:\", id(item_list)) # Demonstrate that the list object is the same\n",
        "\n",
        "print(\"\\nDemonstrating mutable default argument issue:\")\n",
        "print(\"First call to add_to_list_mutable_default:\")\n",
        "add_to_list_mutable_default(\"apple\") # Output: Current list: ['apple']\n",
        "\n",
        "print(\"Second call to add_to_list_mutable_default:\")\n",
        "add_to_list_mutable_default(\"banana\") # Output: Current list: ['apple', 'banana'] - the list from the first call was modified!\n",
        "\n",
        "# Recommended way to handle mutable default arguments: Use `None` as the default\n",
        "def add_to_list_correct(item, item_list=None):\n",
        "  \"\"\"\n",
        "  Adds an item to a list, correctly handling mutable default argument.\n",
        "  \"\"\"\n",
        "  if item_list is None:\n",
        "    item_list = [] # Create a new list only if one is not provided\n",
        "  item_list.append(item)\n",
        "  print(\"Current list:\", item_list)\n",
        "  print(\"List id:\", id(item_list)) # Demonstrate that a new list might be created\n",
        "\n",
        "print(\"\\nDemonstrating correct handling of mutable default argument:\")\n",
        "print(\"First call to add_to_list_correct:\")\n",
        "add_to_list_correct(\"apple\") # Output: Current list: ['apple']\n",
        "\n",
        "print(\"Second call to add_to_list_correct:\")\n",
        "add_to_list_correct(\"banana\") # Output: Current list: ['banana'] - a new list was created!\n",
        "\n",
        "print(\"Third call to add_to_list_correct with an explicit list:\")\n",
        "my_own_list = [\"grape\"]\n",
        "add_to_list_correct(\"cherry\", my_own_list) # Output: Current list: ['grape', 'cherry']\n",
        "print(\"My original list:\", my_own_list) # Output: My original list: ['grape', 'cherry'] - the explicit list was modified\n",
        "\n",
        "# In summary, default arguments provide flexibility by allowing parameters to be optional.\n",
        "# However, always define non-default arguments before default arguments, and be\n",
        "# mindful of mutable default arguments, preferring `None` as the default and\n",
        "# creating a new mutable object inside the function if needed.\n"
      ],
      "metadata": {
        "colab": {
          "base_uri": "https://localhost:8080/"
        },
        "id": "yqb77jPqcK7q",
        "outputId": "7a8b0eac-d42e-43c5-918a-e320decad56e"
      },
      "execution_count": null,
      "outputs": [
        {
          "output_type": "stream",
          "name": "stdout",
          "text": [
            "\n",
            "Calling greet_with_default without an argument:\n",
            "Hello, Guest!\n",
            "Calling greet_with_default with an argument:\n",
            "Hello, Charlie!\n",
            "\n",
            "Calling send_message with only the required argument:\n",
            "Message from Anonymous to All: 'Meeting at 3 PM'\n",
            "Calling send_message with required and one optional argument:\n",
            "Message from David to All: 'Project update'\n",
            "Calling send_message with all arguments:\n",
            "Message from Eve to Team Alpha: 'Final review'\n",
            "\n",
            "Calling correct_order:\n",
            "Required: Must provide, Default: default\n",
            "Required: Must provide, Default: Custom default\n",
            "\n",
            "Demonstrating mutable default argument issue:\n",
            "First call to add_to_list_mutable_default:\n",
            "Current list: ['apple']\n",
            "List id: 136361918392320\n",
            "Second call to add_to_list_mutable_default:\n",
            "Current list: ['apple', 'banana']\n",
            "List id: 136361918392320\n",
            "\n",
            "Demonstrating correct handling of mutable default argument:\n",
            "First call to add_to_list_correct:\n",
            "Current list: ['apple']\n",
            "List id: 136361918392448\n",
            "Second call to add_to_list_correct:\n",
            "Current list: ['banana']\n",
            "List id: 136361918398208\n",
            "Third call to add_to_list_correct with an explicit list:\n",
            "Current list: ['grape', 'cherry']\n",
            "List id: 136361918392448\n",
            "My original list: ['grape', 'cherry']\n"
          ]
        }
      ]
    },
    {
      "cell_type": "code",
      "source": [
        "# prompt: Keyword arguement\n",
        "\n",
        "# Learning about Keyword Arguments in Functions\n",
        "\n",
        "# Keyword arguments allow you to pass arguments to a function by explicitly\n",
        "# naming the parameter they correspond to in the function definition.\n",
        "# This is useful when a function has many parameters, making the call more\n",
        "# readable and allowing you to specify arguments in any order.\n",
        "\n",
        "def describe_car(make, model, year, color=\"Unknown\"):\n",
        "  \"\"\"\n",
        "  Describes a car using keyword arguments.\n",
        "  \"\"\"\n",
        "  print(f\"Car details: Make={make}, Model={model}, Year={year}, Color={color}\")\n",
        "\n",
        "print(\"\\nDemonstrating Keyword Arguments:\")\n",
        "\n",
        "# Calling the function using keyword arguments\n",
        "# The order of keyword arguments does not matter\n",
        "describe_car(make=\"Toyota\", model=\"Camry\", year=2022, color=\"Blue\")\n",
        "\n",
        "# Calling using a different order of keyword arguments\n",
        "describe_car(year=2021, color=\"Red\", make=\"Honda\", model=\"Civic\")\n",
        "\n",
        "# Mixing positional and keyword arguments\n",
        "# Positional arguments must come before keyword arguments\n",
        "print(\"\\nMixing Positional and Keyword Arguments:\")\n",
        "\n",
        "# Correct mix: positional first, then keyword\n",
        "describe_car(\"Ford\", \"Focus\", year=2020, color=\"Silver\")\n",
        "\n",
        "# Incorrect mix (will raise a SyntaxError)\n",
        "# describe_car(make=\"Nissan\", \"Sentra\", 2019, color=\"Black\") # Positional argument follows keyword argument\n",
        "\n",
        "# Using keyword arguments for optional (default) parameters\n",
        "print(\"\\nUsing Keyword Arguments for Default Parameters:\")\n",
        "\n",
        "# Calling with keyword arguments, omitting the default 'color'\n",
        "describe_car(make=\"Volkswagen\", model=\"Golf\", year=2023) # Uses the default color=\"Unknown\"\n",
        "\n",
        "# Calling with keyword arguments, explicitly setting the 'color'\n",
        "describe_car(make=\"Tesla\", model=\"Model 3\", year=2024, color=\"White\")\n",
        "\n",
        "# Keyword arguments with arbitrary number of arguments (**kwargs)\n",
        "# Sometimes you don't know in advance how many keyword arguments a function will receive.\n",
        "# You can use `**kwargs` to accept an arbitrary number of keyword arguments.\n",
        "# These arguments are collected into a dictionary inside the function.\n",
        "\n",
        "def display_profile(name, **details):\n",
        "  \"\"\"\n",
        "  Displays a user profile with arbitrary additional details.\n",
        "  \"\"\"\n",
        "  print(f\"Name: {name}\")\n",
        "  print(\"Details:\")\n",
        "  for key, value in details.items():\n",
        "    print(f\"  {key}: {value}\")\n",
        "\n",
        "print(\"\\nDemonstrating **kwargs:\")\n",
        "\n",
        "# Calling with additional keyword arguments\n",
        "display_profile(\"Alice\", age=30, city=\"New York\", occupation=\"Engineer\")\n",
        "\n",
        "# Calling with different additional keyword arguments\n",
        "display_profile(\"Bob\", country=\"Canada\", hobby=\"Gardening\")\n",
        "\n",
        "# Using **kwargs and default arguments together\n",
        "def configure_settings(database=\"localhost\", port=5432, **options):\n",
        "  \"\"\"\n",
        "  Configures settings with default database and port, plus arbitrary options.\n",
        "  \"\"\"\n",
        "  print(f\"Database: {database}\")\n",
        "  print(f\"Port: {port}\")\n",
        "  print(\"Additional Options:\")\n",
        "  for key, value in options.items():\n",
        "    print(f\"  {key}: {value}\")\n",
        "\n",
        "print(\"\\nDemonstrating **kwargs and default arguments:\")\n",
        "\n",
        "# Calling with just required arguments\n",
        "configure_settings()\n",
        "\n",
        "# Calling with default arguments overridden\n",
        "configure_settings(database=\"production.db\", port=3306)\n",
        "\n",
        "# Calling with default arguments overridden and additional options\n",
        "configure_settings(database=\"staging.db\", timeout=10, retries=3)\n",
        "\n",
        "# In summary, keyword arguments provide a clear and flexible way to pass\n",
        "# arguments to functions, especially for functions with many parameters or\n",
        "# optional arguments. `**kwargs` allows functions to accept an arbitrary\n",
        "# number of additional keyword arguments, collected into a dictionary."
      ],
      "metadata": {
        "colab": {
          "base_uri": "https://localhost:8080/"
        },
        "id": "DqlLRW5siAJp",
        "outputId": "64389f0b-03cf-444d-dd30-f136140a9494"
      },
      "execution_count": null,
      "outputs": [
        {
          "output_type": "stream",
          "name": "stdout",
          "text": [
            "\n",
            "Demonstrating Keyword Arguments:\n",
            "Car details: Make=Toyota, Model=Camry, Year=2022, Color=Blue\n",
            "Car details: Make=Honda, Model=Civic, Year=2021, Color=Red\n",
            "\n",
            "Mixing Positional and Keyword Arguments:\n",
            "Car details: Make=Ford, Model=Focus, Year=2020, Color=Silver\n",
            "\n",
            "Using Keyword Arguments for Default Parameters:\n",
            "Car details: Make=Volkswagen, Model=Golf, Year=2023, Color=Unknown\n",
            "Car details: Make=Tesla, Model=Model 3, Year=2024, Color=White\n",
            "\n",
            "Demonstrating **kwargs:\n",
            "Name: Alice\n",
            "Details:\n",
            "  age: 30\n",
            "  city: New York\n",
            "  occupation: Engineer\n",
            "Name: Bob\n",
            "Details:\n",
            "  country: Canada\n",
            "  hobby: Gardening\n",
            "\n",
            "Demonstrating **kwargs and default arguments:\n",
            "Database: localhost\n",
            "Port: 5432\n",
            "Additional Options:\n",
            "Database: production.db\n",
            "Port: 3306\n",
            "Additional Options:\n",
            "Database: staging.db\n",
            "Port: 5432\n",
            "Additional Options:\n",
            "  timeout: 10\n",
            "  retries: 3\n"
          ]
        }
      ]
    },
    {
      "cell_type": "code",
      "source": [
        "# Define a list a find the minimun value\n",
        "def find_minimum(l):\n",
        "  if len(l) == 0:\n",
        "    return \"List is empty\"\n",
        "  min_value = l[0]\n",
        "  for num in l:\n",
        "    if num < min_value:\n",
        "      min_value = num\n",
        "  return min_value\n",
        "l = [10, 20, 0, 3, 2, 1]\n",
        "print(find_minimum(l))"
      ],
      "metadata": {
        "colab": {
          "base_uri": "https://localhost:8080/"
        },
        "id": "HZch_Kf6cLsg",
        "outputId": "632d67e2-fc4c-4afa-c009-0f90b4fdbf1d"
      },
      "execution_count": null,
      "outputs": [
        {
          "output_type": "stream",
          "name": "stdout",
          "text": [
            "0\n"
          ]
        }
      ]
    },
    {
      "cell_type": "code",
      "source": [
        "# Define a list a find the maximum value\n",
        "def find_maximum(l):\n",
        "  if len(l) == 0:\n",
        "    return \"List is empty\"\n",
        "  max_value = l[0]\n",
        "  for num in l:\n",
        "    if num > max_value:\n",
        "      max_value = num\n",
        "  return max_value\n",
        "l = [10, 20, 0, 3, 2, 1]\n",
        "print(find_maximum(l))"
      ],
      "metadata": {
        "colab": {
          "base_uri": "https://localhost:8080/"
        },
        "id": "VoOew-evcMHe",
        "outputId": "8673bf17-bab1-4080-d01c-afe245fa0a1f"
      },
      "execution_count": null,
      "outputs": [
        {
          "output_type": "stream",
          "name": "stdout",
          "text": [
            "20\n"
          ]
        }
      ]
    },
    {
      "cell_type": "code",
      "source": [
        "#Find the second largest element from list\n",
        "def find_second_largest(l):\n",
        "  if len(l) == 0:\n",
        "    return \"List is empty\"\n",
        "  largest = max(l[0], l[1])\n",
        "  second_largest = min(l[0], l[1])\n",
        "  for num in l[2:]:\n",
        "    if num > largest:\n",
        "      second_largest = largest\n",
        "      largest = num\n",
        "    elif num > second_largest:\n",
        "      second_largest = num\n",
        "  return second_largest\n",
        "\n",
        "l = [0, 10, 100, 50, 2, 9]\n",
        "print(find_second_largest(l))\n"
      ],
      "metadata": {
        "colab": {
          "base_uri": "https://localhost:8080/"
        },
        "id": "jwXTIYWecMW7",
        "outputId": "0821113d-5600-43d9-dd1c-b2c407b19a1c"
      },
      "execution_count": null,
      "outputs": [
        {
          "output_type": "stream",
          "name": "stdout",
          "text": [
            "50\n"
          ]
        }
      ]
    },
    {
      "cell_type": "code",
      "source": [
        "#Find minimum and maximum element from the array\n",
        "def find_min_max(l):\n",
        "  if not l:\n",
        "    return \"List is empty\"\n",
        "  min_value = l[0]\n",
        "  max_value = l[0]\n",
        "  for num in l:\n",
        "    if max_value < num :\n",
        "      max_value = num\n",
        "    if min_value > num:\n",
        "      min_value = num\n",
        "  return min_value, max_value\n",
        "\n",
        "l = [0, 10, 100, 50, 2, 9]\n",
        "print(find_min_max(l))\n",
        "print(\"Maximum -\" , find_maximum(l))\n",
        "print(\"Minimum -\" , find_minimum(l))"
      ],
      "metadata": {
        "colab": {
          "base_uri": "https://localhost:8080/"
        },
        "id": "BHzINTKKmlT1",
        "outputId": "a17db753-a13c-441e-9e06-9dd3887d6465"
      },
      "execution_count": null,
      "outputs": [
        {
          "output_type": "stream",
          "name": "stdout",
          "text": [
            "(0, 100)\n",
            "Maximum - 100\n",
            "Minimum - 0\n"
          ]
        }
      ]
    },
    {
      "cell_type": "code",
      "source": [
        "#Find the index and postion of the number from the list\n",
        "def find_element(l, target):\n",
        "  if not l:\n",
        "    return \"List is empty\"\n",
        "  for index in range(len(l)):\n",
        "    if l[index] == target:\n",
        "      return index\n",
        "\n",
        "  return -1\n",
        "\n",
        "l = [0, 10, 100, 50, 2, 9]\n",
        "result = find_element(l, 100)\n",
        "if result != -1:\n",
        "  print(\"Element found at index\", result)\n",
        "  print(\"Element found at position\", result+1)"
      ],
      "metadata": {
        "colab": {
          "base_uri": "https://localhost:8080/"
        },
        "id": "nAoEL3wMn1YU",
        "outputId": "a0b4ba21-992c-4cee-fe84-b7e9489a77ff"
      },
      "execution_count": null,
      "outputs": [
        {
          "output_type": "stream",
          "name": "stdout",
          "text": [
            "Element found at index 2\n",
            "Element found at position 3\n"
          ]
        }
      ]
    },
    {
      "cell_type": "code",
      "source": [
        "# Remove Duplicates from Unsorted Array:\n",
        "def remove_duplicates(l):\n",
        "  if not l:\n",
        "    return \"List is empty\"\n",
        "  unique_list = []\n",
        "  for num in l:\n",
        "    if num not in unique_list:\n",
        "      unique_list.append(num) # The if num not in unique_list: check ensures that we only append an element if it's not already present in the unique_list. This is the core logic that prevents duplicates from being added to the unique_list.\n",
        "  return unique_list\n",
        "l = [0, 10, 100, 50, 2, 9, 10, 100]\n",
        "print('Original List',l)\n",
        "print(remove_duplicates(l))"
      ],
      "metadata": {
        "colab": {
          "base_uri": "https://localhost:8080/"
        },
        "id": "Lg9-gp_ixPjM",
        "outputId": "ee1dd521-92d3-46f5-bc26-69f5fa31b725"
      },
      "execution_count": null,
      "outputs": [
        {
          "output_type": "stream",
          "name": "stdout",
          "text": [
            "Original List [0, 10, 100, 50, 2, 9, 10, 100]\n",
            "[0, 10, 100, 50, 2, 9]\n"
          ]
        }
      ]
    },
    {
      "cell_type": "code",
      "source": [
        "# Intersection of Two Arrays:\n",
        "def int_two_array(l1, l2):\n",
        "  if not l1 or not l2:\n",
        "    return \"List is empty\"\n",
        "  set1 = set(l1)  # convert the input lists l1 and l2 into sets. Sets in Python are unordered collections of unique elements.\n",
        "  set2 = set(l2)  #  Converting to sets is a very efficient way to find common elements because set operations are optimized.\n",
        "  result = list(set1.intersection(set2)) # performs the intersection operation between the two sets.\n",
        "  # This method returns a new set containing only the elements that are present in both set1 and set2.\n",
        "  return result\n",
        "\n",
        "l1 = [1, 2, 2, 1]\n",
        "l2 = [2, 2]\n",
        "print(int_two_array(l1, l2))"
      ],
      "metadata": {
        "colab": {
          "base_uri": "https://localhost:8080/"
        },
        "id": "fgsIj8zNzODH",
        "outputId": "1c60af85-e845-4a62-e694-17874d87a900"
      },
      "execution_count": null,
      "outputs": [
        {
          "output_type": "stream",
          "name": "stdout",
          "text": [
            "[2]\n"
          ]
        }
      ]
    }
  ]
}